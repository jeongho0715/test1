{
 "cells": [
  {
   "cell_type": "markdown",
   "metadata": {},
   "source": [
    "# Packages"
   ]
  },
  {
   "cell_type": "code",
   "execution_count": 46,
   "metadata": {},
   "outputs": [],
   "source": [
    "import numpy as np\n",
    "import pandas as pd\n",
    "import matplotlib.pyplot as plt\n",
    "import plotly.express as px\n",
    "import tensorflow as tf\n",
    "import traceback\n",
    "import plotly.io as pio\n",
    "pio.renderers.default = \"notebook_connected\""
   ]
  },
  {
   "cell_type": "markdown",
   "metadata": {},
   "source": [
    "# Tensor"
   ]
  },
  {
   "cell_type": "markdown",
   "metadata": {},
   "source": [
    "## Defining Tensor"
   ]
  },
  {
   "cell_type": "markdown",
   "metadata": {},
   "source": [
    "Tensor is kind of matrix, and if we have a matrix like"
   ]
  },
  {
   "cell_type": "markdown",
   "metadata": {},
   "source": [
    "$$\\mathbf{x}=\\left(\\begin{matrix}1\\\\1\\end{matrix}\\right)\\tag{1}$$"
   ]
  },
  {
   "cell_type": "markdown",
   "metadata": {},
   "source": [
    "We can make tensor of (1) directly using tf.constant() method like"
   ]
  },
  {
   "cell_type": "code",
   "execution_count": 47,
   "metadata": {},
   "outputs": [
    {
     "data": {
      "text/plain": [
       "<tf.Tensor: shape=(2, 1), dtype=float32, numpy=\n",
       "array([[1.],\n",
       "       [1.]], dtype=float32)>"
      ]
     },
     "execution_count": 47,
     "metadata": {},
     "output_type": "execute_result"
    }
   ],
   "source": [
    "x = tf.constant([[1.],[1.]])\n",
    "x"
   ]
  },
  {
   "cell_type": "markdown",
   "metadata": {},
   "source": [
    "Since elements of (1) are only 1, we can use tf.ones() instead of typing all elements like"
   ]
  },
  {
   "cell_type": "code",
   "execution_count": 48,
   "metadata": {},
   "outputs": [
    {
     "data": {
      "text/plain": [
       "<tf.Tensor: shape=(2, 1), dtype=float32, numpy=\n",
       "array([[1.],\n",
       "       [1.]], dtype=float32)>"
      ]
     },
     "execution_count": 48,
     "metadata": {},
     "output_type": "execute_result"
    }
   ],
   "source": [
    "x = tf.ones(shape=(2, 1))\n",
    "x"
   ]
  },
  {
   "cell_type": "markdown",
   "metadata": {},
   "source": [
    "We can make another type of tensor using tf.Variable method"
   ]
  },
  {
   "cell_type": "code",
   "execution_count": 49,
   "metadata": {},
   "outputs": [
    {
     "data": {
      "text/plain": [
       "<tf.Variable 'Variable:0' shape=(2, 1) dtype=float32, numpy=\n",
       "array([[1.],\n",
       "       [1.]], dtype=float32)>"
      ]
     },
     "execution_count": 49,
     "metadata": {},
     "output_type": "execute_result"
    }
   ],
   "source": [
    "x = tf.Variable([[1.], [1.]])\n",
    "x"
   ]
  },
  {
   "cell_type": "markdown",
   "metadata": {},
   "source": [
    "Also, we can make tensor with 0 like tf.ones() as"
   ]
  },
  {
   "cell_type": "code",
   "execution_count": 50,
   "metadata": {},
   "outputs": [
    {
     "data": {
      "text/plain": [
       "<tf.Tensor: shape=(2, 1), dtype=float32, numpy=\n",
       "array([[0.],\n",
       "       [0.]], dtype=float32)>"
      ]
     },
     "execution_count": 50,
     "metadata": {},
     "output_type": "execute_result"
    }
   ],
   "source": [
    "x = tf.zeros(shape=(2, 1))\n",
    "x"
   ]
  },
  {
   "cell_type": "markdown",
   "metadata": {},
   "source": [
    "And we can make tensor with random values from noraml distribution using"
   ]
  },
  {
   "cell_type": "code",
   "execution_count": 51,
   "metadata": {},
   "outputs": [
    {
     "data": {
      "text/plain": [
       "<tf.Tensor: shape=(2, 1), dtype=float32, numpy=\n",
       "array([[-0.6173213],\n",
       "       [ 0.7987831]], dtype=float32)>"
      ]
     },
     "execution_count": 51,
     "metadata": {},
     "output_type": "execute_result"
    }
   ],
   "source": [
    "x = tf.random.normal(shape=(2, 1))\n",
    "x"
   ]
  },
  {
   "cell_type": "code",
   "execution_count": 52,
   "metadata": {},
   "outputs": [
    {
     "data": {
      "text/plain": [
       "<tf.Tensor: shape=(2, 1), dtype=float32, numpy=\n",
       "array([[0.23898017],\n",
       "       [0.8847568 ]], dtype=float32)>"
      ]
     },
     "execution_count": 52,
     "metadata": {},
     "output_type": "execute_result"
    }
   ],
   "source": [
    "x = tf.random.uniform(shape=(2, 1))\n",
    "x"
   ]
  },
  {
   "cell_type": "markdown",
   "metadata": {},
   "source": [
    "Also we can make tensor with random values from uniform distribution using"
   ]
  },
  {
   "cell_type": "markdown",
   "metadata": {},
   "source": [
    "## Modifying Tensor"
   ]
  },
  {
   "cell_type": "markdown",
   "metadata": {},
   "source": [
    "All 3 method of defining tensor can make tensor similar to (1), but there is different between those methods. Before that, we can change tensor's value using .assign() method"
   ]
  },
  {
   "cell_type": "code",
   "execution_count": 53,
   "metadata": {},
   "outputs": [
    {
     "data": {
      "text/plain": [
       "<tf.Variable 'Variable:0' shape=(2, 1) dtype=float32, numpy=\n",
       "array([[2.],\n",
       "       [2.]], dtype=float32)>"
      ]
     },
     "execution_count": 53,
     "metadata": {},
     "output_type": "execute_result"
    }
   ],
   "source": [
    "x = tf.Variable([[1.], [1.]])\n",
    "x.assign(tf.Variable([[2.], [2.]]))\n",
    "x"
   ]
  },
  {
   "cell_type": "markdown",
   "metadata": {},
   "source": [
    "We can change only 1 values from tensor as"
   ]
  },
  {
   "cell_type": "code",
   "execution_count": 54,
   "metadata": {},
   "outputs": [
    {
     "data": {
      "text/plain": [
       "<tf.Variable 'Variable:0' shape=(2, 1) dtype=float32, numpy=\n",
       "array([[1.],\n",
       "       [2.]], dtype=float32)>"
      ]
     },
     "execution_count": 54,
     "metadata": {},
     "output_type": "execute_result"
    }
   ],
   "source": [
    "x[0, 0].assign(1.)\n",
    "x"
   ]
  },
  {
   "cell_type": "markdown",
   "metadata": {},
   "source": [
    "Also, we can add tensor to tensor using"
   ]
  },
  {
   "cell_type": "code",
   "execution_count": 55,
   "metadata": {},
   "outputs": [
    {
     "data": {
      "text/plain": [
       "<tf.Variable 'Variable:0' shape=(2, 1) dtype=float32, numpy=\n",
       "array([[2.],\n",
       "       [3.]], dtype=float32)>"
      ]
     },
     "execution_count": 55,
     "metadata": {},
     "output_type": "execute_result"
    }
   ],
   "source": [
    "y = tf.ones((2, 1))\n",
    "x.assign_add(y)\n",
    "x"
   ]
  },
  {
   "cell_type": "markdown",
   "metadata": {},
   "source": [
    "However, only tensor made by tf.Variable() can be modified. Tensor made by .constant(), .ones() can't be modified."
   ]
  },
  {
   "cell_type": "markdown",
   "metadata": {},
   "source": [
    "If we try to modify the tensor made by .constant() or ones(), error occurs."
   ]
  },
  {
   "cell_type": "code",
   "execution_count": 56,
   "metadata": {},
   "outputs": [
    {
     "name": "stderr",
     "output_type": "stream",
     "text": [
      "Traceback (most recent call last):\n",
      "  File \"C:\\Users\\Jeongho Seo\\AppData\\Local\\Temp\\ipykernel_33336\\2212837504.py\", line 4, in <module>\n",
      "    x.assign(tf.Variable([[2.], [2.]]))\n",
      "    ^^^^^^^^\n",
      "  File \"C:\\Users\\Jeongho Seo\\AppData\\Roaming\\Python\\Python312\\site-packages\\tensorflow\\python\\framework\\tensor.py\", line 260, in __getattr__\n",
      "    self.__getattribute__(name)\n",
      "AttributeError: 'tensorflow.python.framework.ops.EagerTensor' object has no attribute 'assign'\n"
     ]
    }
   ],
   "source": [
    "x = tf.constant([[1.],[1.]])\n",
    "\n",
    "try:\n",
    "    x.assign(tf.Variable([[2.], [2.]]))\n",
    "except Exception as e:\n",
    "    traceback.print_exc()"
   ]
  },
  {
   "cell_type": "markdown",
   "metadata": {},
   "source": [
    "## Generating Modifiable Tensor"
   ]
  },
  {
   "cell_type": "markdown",
   "metadata": {},
   "source": [
    "If want to make tensor with random values from normal distribution, but can be modified, we can make tensor like"
   ]
  },
  {
   "cell_type": "code",
   "execution_count": 57,
   "metadata": {},
   "outputs": [
    {
     "data": {
      "text/plain": [
       "<tf.Variable 'Variable:0' shape=(3, 1) dtype=float32, numpy=\n",
       "array([[-0.08912531],\n",
       "       [-0.29949242],\n",
       "       [ 1.138423  ]], dtype=float32)>"
      ]
     },
     "execution_count": 57,
     "metadata": {},
     "output_type": "execute_result"
    }
   ],
   "source": [
    "v = tf.Variable(initial_value=tf.random.normal(shape=(3, 1)))\n",
    "v"
   ]
  },
  {
   "cell_type": "markdown",
   "metadata": {},
   "source": [
    "## Mathematical Operations"
   ]
  },
  {
   "cell_type": "markdown",
   "metadata": {},
   "source": [
    "$$\\mathbf{A}=\\left(\\begin{matrix}1&4\\\\9&0\\end{matrix}\\right)\\tag{2}$$\n",
    "$$\\mathbf{B}=\\left(\\begin{matrix}5&0\\\\2&-1\\end{matrix}\\right)\\tag{3}$$"
   ]
  },
  {
   "cell_type": "code",
   "execution_count": 58,
   "metadata": {},
   "outputs": [
    {
     "data": {
      "text/plain": [
       "<tf.Variable 'Variable:0' shape=(2, 2) dtype=float32, numpy=\n",
       "array([[1., 4.],\n",
       "       [9., 0.]], dtype=float32)>"
      ]
     },
     "execution_count": 58,
     "metadata": {},
     "output_type": "execute_result"
    }
   ],
   "source": [
    "a = tf.Variable([[1., 4], [9., 0]])\n",
    "b = tf.Variable([[5., 0], [2., -1]])\n",
    "a"
   ]
  },
  {
   "cell_type": "markdown",
   "metadata": {},
   "source": [
    "$$\\mathbf{A}+\\mathbf{B}=\\left(\\begin{matrix}1&4\\\\9&0\\end{matrix}\\right)+\\left(\\begin{matrix}5&0\\\\2&-1\\end{matrix}\\right)=\\left(\\begin{matrix}6&4\\\\11&-1\\end{matrix}\\right)\\tag{4}$$"
   ]
  },
  {
   "cell_type": "code",
   "execution_count": 59,
   "metadata": {},
   "outputs": [
    {
     "data": {
      "text/plain": [
       "<tf.Tensor: shape=(2, 2), dtype=float32, numpy=\n",
       "array([[ 6.,  4.],\n",
       "       [11., -1.]], dtype=float32)>"
      ]
     },
     "execution_count": 59,
     "metadata": {},
     "output_type": "execute_result"
    }
   ],
   "source": [
    "a + b"
   ]
  },
  {
   "cell_type": "markdown",
   "metadata": {},
   "source": [
    "$$\\mathbf{A}-\\mathbf{B}=\\left(\\begin{matrix}1&4\\\\9&0\\end{matrix}\\right)+(-1)\\left(\\begin{matrix}5&0\\\\2&-1\\end{matrix}\\right)=\\left(\\begin{matrix}1&4\\\\9&0\\end{matrix}\\right)+\\left(\\begin{matrix}-5&0\\\\-2&1\\end{matrix}\\right)=\\left(\\begin{matrix}-4&4\\\\7&1\\end{matrix}\\right)\\tag{5}$$"
   ]
  },
  {
   "cell_type": "code",
   "execution_count": 60,
   "metadata": {},
   "outputs": [
    {
     "data": {
      "text/plain": [
       "<tf.Tensor: shape=(2, 2), dtype=float32, numpy=\n",
       "array([[-4.,  4.],\n",
       "       [ 7.,  1.]], dtype=float32)>"
      ]
     },
     "execution_count": 60,
     "metadata": {},
     "output_type": "execute_result"
    }
   ],
   "source": [
    "a - b"
   ]
  },
  {
   "cell_type": "markdown",
   "metadata": {},
   "source": [
    "$$\\mathbf{A}^{\\circ2}=\\left(\\begin{matrix}1^2&4^2\\\\9^2&0^2\\end{matrix}\\right)=\\left(\\begin{matrix}1&16\\\\81&0\\end{matrix}\\right)\\tag{6}$$"
   ]
  },
  {
   "cell_type": "code",
   "execution_count": 61,
   "metadata": {},
   "outputs": [
    {
     "data": {
      "text/plain": [
       "<tf.Tensor: shape=(2, 2), dtype=float32, numpy=\n",
       "array([[ 1., 16.],\n",
       "       [81.,  0.]], dtype=float32)>"
      ]
     },
     "execution_count": 61,
     "metadata": {},
     "output_type": "execute_result"
    }
   ],
   "source": [
    "tf.square(a)"
   ]
  },
  {
   "cell_type": "markdown",
   "metadata": {},
   "source": [
    "$$\\sqrt{\\mathbf{A}}^\\circ=\\left(\\begin{matrix}\\sqrt{1}&\\sqrt{4}\\\\\\sqrt{9}&\\sqrt{0}\\end{matrix}\\right)=\\left(\\begin{matrix}1&2\\\\3&0\\end{matrix}\\right)\\tag{7}$$"
   ]
  },
  {
   "cell_type": "code",
   "execution_count": 62,
   "metadata": {},
   "outputs": [
    {
     "data": {
      "text/plain": [
       "<tf.Tensor: shape=(2, 2), dtype=float32, numpy=\n",
       "array([[1., 2.],\n",
       "       [3., 0.]], dtype=float32)>"
      ]
     },
     "execution_count": 62,
     "metadata": {},
     "output_type": "execute_result"
    }
   ],
   "source": [
    "tf.sqrt(a)"
   ]
  },
  {
   "cell_type": "markdown",
   "metadata": {},
   "source": [
    "$$\\mathbf{AB}=\\left(\\begin{matrix}1&4\\\\9&0\\end{matrix}\\right)\\left(\\begin{matrix}5&0\\\\2&-1\\end{matrix}\\right)=\\left(\\begin{matrix}1\\times5+4\\times2&1\\times0+4\\times(-1)\\\\9\\times5+0\\times2&9\\times0+0\\times(-1)\\end{matrix}\\right)=\\left(\\begin{matrix}13&-4\\\\45&0\\end{matrix}\\right)\\tag{8}$$"
   ]
  },
  {
   "cell_type": "code",
   "execution_count": 63,
   "metadata": {},
   "outputs": [
    {
     "data": {
      "text/plain": [
       "<tf.Tensor: shape=(2, 2), dtype=float32, numpy=\n",
       "array([[13., -4.],\n",
       "       [45.,  0.]], dtype=float32)>"
      ]
     },
     "execution_count": 63,
     "metadata": {},
     "output_type": "execute_result"
    }
   ],
   "source": [
    "tf.matmul(a, b)"
   ]
  },
  {
   "cell_type": "markdown",
   "metadata": {},
   "source": [
    "$$\\mathbf{A}\\circ\\mathbf{B}=\\left(\\begin{matrix}1&4\\\\9&0\\end{matrix}\\right)\\circ\\left(\\begin{matrix}5&0\\\\2&-1\\end{matrix}\\right)=\\left(\\begin{matrix}1\\times5&4\\times0\\\\9\\times2&0\\times(-1)\\end{matrix}\\right)=\\left(\\begin{matrix}5&0\\\\18&0\\end{matrix}\\right)\\tag{9}$$"
   ]
  },
  {
   "cell_type": "code",
   "execution_count": 64,
   "metadata": {},
   "outputs": [
    {
     "data": {
      "text/plain": [
       "<tf.Tensor: shape=(2, 2), dtype=float32, numpy=\n",
       "array([[ 5.,  0.],\n",
       "       [18., -0.]], dtype=float32)>"
      ]
     },
     "execution_count": 64,
     "metadata": {},
     "output_type": "execute_result"
    }
   ],
   "source": [
    "a * b"
   ]
  },
  {
   "cell_type": "markdown",
   "metadata": {},
   "source": [
    "$$\\mathbf{A}^{\\circ2}=\\left(\\begin{matrix}1^2&4^2\\\\9^2&0^2\\end{matrix}\\right)=\\left(\\begin{matrix}1&16\\\\81&0\\end{matrix}\\right)\\tag{10}$$"
   ]
  },
  {
   "cell_type": "code",
   "execution_count": 65,
   "metadata": {},
   "outputs": [
    {
     "data": {
      "text/plain": [
       "<tf.Tensor: shape=(2, 2), dtype=float32, numpy=\n",
       "array([[ 1., 16.],\n",
       "       [81.,  0.]], dtype=float32)>"
      ]
     },
     "execution_count": 65,
     "metadata": {},
     "output_type": "execute_result"
    }
   ],
   "source": [
    "a ** 2"
   ]
  },
  {
   "cell_type": "markdown",
   "metadata": {},
   "source": [
    "# Classification"
   ]
  },
  {
   "cell_type": "markdown",
   "metadata": {},
   "source": [
    "## Concept"
   ]
  },
  {
   "cell_type": "markdown",
   "metadata": {},
   "source": [
    "For classification, generate 2 classes with 1,000 random points. 2 classes have different mean but same covariance, 2 classes can be classified well."
   ]
  },
  {
   "cell_type": "markdown",
   "metadata": {},
   "source": [
    "When we define data with 2 classes(negative, positive), make 2 $1,000\\times2$ 2-dimensional matrices with $x$ and $y$ as"
   ]
  },
  {
   "cell_type": "markdown",
   "metadata": {},
   "source": [
    "$$\\mathbf{P} _n=\\left(\\begin{matrix}x_{n11}&y_{n12}\\\\x_{n21}&y_{n22}\\\\\\vdots&\\vdots\\\\x_{n10001}&y_{n10002}\\\\\\end{matrix}\\right)\\tag{23}$$\n",
    "$$\\mathbf{P} _p=\\left(\\begin{matrix}x_{p11}&y_{p12}\\\\x_{p21}&y_{p22}\\\\\\vdots&\\vdots\\\\x_{p10001}&y_{p10002}\\\\\\end{matrix}\\right)\\tag{23}$$"
   ]
  },
  {
   "cell_type": "markdown",
   "metadata": {},
   "source": [
    "Concatenate two matrx vertically as"
   ]
  },
  {
   "cell_type": "markdown",
   "metadata": {},
   "source": [
    "$$\\mathbf{P}=\\left(\\begin{matrix}\\mathbf{P} _n\\\\\\mathbf{P} _p\\\\\\end{matrix}\\right)=\\left(\\begin{matrix}x_{n11}&y_{n12}\\\\x_{n21}&y_{n22}\\\\\\vdots&\\vdots\\\\x_{n10001}&y_{n10002}\\\\x_{p11}&y_{p12}\\\\x_{p21}&y_{p22}\\\\\\vdots&\\vdots\\\\x_{p10001}&y_{p10002}\\\\\\end{matrix}\\right)$$"
   ]
  },
  {
   "cell_type": "code",
   "execution_count": 66,
   "metadata": {},
   "outputs": [],
   "source": [
    "num_samples_per_class = 1000\n",
    "negative_samples = np.random.multivariate_normal(\n",
    "    mean=[0, 3],\n",
    "    cov=[[1, 0.5],[0.5, 1]],\n",
    "    size=num_samples_per_class)\n",
    "positive_samples = np.random.multivariate_normal(\n",
    "    mean=[3, 0],\n",
    "    cov=[[1, 0.5],[0.5, 1]],\n",
    "    size=num_samples_per_class)"
   ]
  },
  {
   "cell_type": "code",
   "execution_count": 67,
   "metadata": {},
   "outputs": [],
   "source": [
    "inputs = np.vstack((negative_samples, positive_samples)).astype(np.float32)"
   ]
  },
  {
   "cell_type": "markdown",
   "metadata": {},
   "source": [
    "$$\\mathbf{z} _n=\\left(\\begin{matrix}0\\\\0\\\\\\vdots\\\\0\\\\\\end{matrix}\\right)\\tag{23}$$\n",
    "$$\\mathbf{z} _p=\\left(\\begin{matrix}1\\\\1\\\\\\vdots\\\\1\\\\\\end{matrix}\\right)\\tag{23}$$"
   ]
  },
  {
   "cell_type": "markdown",
   "metadata": {},
   "source": [
    "$$\\mathbf{z}=\\left(\\begin{matrix}\\mathbf{z}_n\\\\\\mathbf{z}_p\\\\\\end{matrix}\\right)=\\left(\\begin{matrix}0\\\\0\\\\\\vdots\\\\0\\\\1\\\\1\\\\\\vdots\\\\1\\\\\\end{matrix}\\right)\\tag{23}$$"
   ]
  },
  {
   "cell_type": "code",
   "execution_count": 68,
   "metadata": {},
   "outputs": [],
   "source": [
    "targets = np.vstack((np.zeros((num_samples_per_class, 1), dtype=\"float32\"),\n",
    "                     np.ones((num_samples_per_class, 1), dtype=\"float32\")))"
   ]
  },
  {
   "cell_type": "markdown",
   "metadata": {},
   "source": [
    "$$\\mathbf{P}+\\mathbf{z}=\\left(\\begin{matrix}\\mathbf{P} _n\\\\\\mathbf{P} _p\\\\\\end{matrix}\\right)+\\left(\\begin{matrix}\\mathbf{z}_n\\\\\\mathbf{z}_p\\\\\\end{matrix}\\right)=\\left(\\begin{matrix}x_{n11}&x_{n12}&z_{n1}\\\\x_{n21}&x_{n22}&z_{n2}\\\\\\vdots&\\vdots&\\vdots\\\\x_{n10001}&x_{n10002}&z_{n1000}\\\\x_{p11}&x_{p12}&z_{p1}\\\\x_{p21}&x_{p22}&z_{p2}\\\\\\vdots&\\vdots&\\vdots\\\\x_{p10001}&x_{p10002}&z_{p1000}\\\\\\end{matrix}\\right)=\\left(\\begin{matrix}x_{n11}&x_{n12}&0\\\\x_{n21}&x_{n22}&0\\\\\\vdots&\\vdots&\\vdots\\\\x_{n10001}&x_{n10002}&0\\\\x_{p11}&x_{p12}&1\\\\x_{p21}&x_{p22}&1\\\\\\vdots&\\vdots&\\vdots\\\\x_{p10001}&x_{p10002}&1\\\\\\end{matrix}\\right)$$"
   ]
  }
 ],
 "metadata": {
  "kernelspec": {
   "display_name": "base",
   "language": "python",
   "name": "python3"
  },
  "language_info": {
   "codemirror_mode": {
    "name": "ipython",
    "version": 3
   },
   "file_extension": ".py",
   "mimetype": "text/x-python",
   "name": "python",
   "nbconvert_exporter": "python",
   "pygments_lexer": "ipython3",
   "version": "3.12.3"
  }
 },
 "nbformat": 4,
 "nbformat_minor": 2
}
