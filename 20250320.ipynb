{
 "cells": [
  {
   "cell_type": "markdown",
   "metadata": {},
   "source": [
    "## Packages"
   ]
  },
  {
   "cell_type": "code",
   "execution_count": 17,
   "metadata": {},
   "outputs": [],
   "source": [
    "import numpy as np"
   ]
  },
  {
   "cell_type": "markdown",
   "metadata": {},
   "source": [
    "## Relu"
   ]
  },
  {
   "cell_type": "markdown",
   "metadata": {},
   "source": [
    "### Concept"
   ]
  },
  {
   "cell_type": "markdown",
   "metadata": {},
   "source": [
    "![image](img/graph-relu.png)"
   ]
  },
  {
   "cell_type": "markdown",
   "metadata": {},
   "source": [
    "$$y=max(0, x) \\tag{1}$$\n",
    "\n",
    "Equation (1) can be denoted by (2)\n",
    "\n",
    "$$y=\\begin{cases}0,\\ x> 0\\\\x,\\ x\\leq 0\\end{cases} \\tag{2}$$"
   ]
  },
  {
   "cell_type": "markdown",
   "metadata": {},
   "source": [
    "### Naive Method"
   ]
  },
  {
   "cell_type": "code",
   "execution_count": 18,
   "metadata": {},
   "outputs": [],
   "source": [
    "x = np.array([\n",
    "    [0, 5, -2],\n",
    "    [-1, 5, 3]\n",
    "])"
   ]
  },
  {
   "cell_type": "markdown",
   "metadata": {},
   "source": [
    "Let's assume there is $2\\times 3$ 2-dimensional matrix $\\mathbf{X}$ as (3)  \n",
    "$$\\mathbf{X}=\\left(\\begin{matrix}0&5&-2\\\\-1&5&3\\\\\\end{matrix}\\right)\\tag{3}$$"
   ]
  },
  {
   "cell_type": "code",
   "execution_count": 19,
   "metadata": {},
   "outputs": [
    {
     "data": {
      "text/plain": [
       "array([[0, 5, 0],\n",
       "       [0, 5, 3]])"
      ]
     },
     "execution_count": 19,
     "metadata": {},
     "output_type": "execute_result"
    }
   ],
   "source": [
    "def naive_relu(x):\n",
    "    assert len(x.shape) == 2\n",
    "    y = x.copy()\n",
    "    for i in range(y.shape[0]):\n",
    "        for j in range(y.shape[1]):\n",
    "            y[i, j] = max(y[i, j], 0)\n",
    "    return y\n",
    "naive_relu(x)"
   ]
  },
  {
   "cell_type": "markdown",
   "metadata": {},
   "source": [
    "\n",
    "<table style=\"border-collapse: collapse; width: 100%;\">\n",
    "<td style=\"border-top: none; border-bottom: 1px solid black; border-left: none; border-right: none; padding: 8px;\">\n",
    "  <tr>\n",
    "    <td style=\"border-top: none; border-bottom: 1px solid black; border-left: none; border-right: none; padding: 8px;\">\n",
    "      <strong>Algorithm</strong> naive_relu(x)\n",
    "    </td>\n",
    "  </tr>\n",
    "  <tr>\n",
    "    <td style=\"border-top: none; border-bottom: 1px solid black; border-left: none; border-right: none; padding: 8px;\">\n",
    "      <strong>Input</strong> $m\\times n$ 2-dimensional matrix $\\mathbf{X}$<br>\n",
    "      &emsp; <strong>Let</strong> $\\mathbf{Y}$ ← copy of $\\mathbf{X}$<br>\n",
    "      &emsp; <strong>for</strong> $i=0$ <strong>to</strong> $m-1$ <strong>do</strong><br>\n",
    "      &emsp;&emsp; <strong>for</strong> $j=0$ <strong>to</strong> $n-1$ <strong>do</strong><br>\n",
    "      &emsp;&emsp;&emsp; <strong>if</strong> $\\mathbf{Y}[i][j]<0$ <strong>then</strong><br> \n",
    "      &emsp;&emsp;&emsp;&emsp; $\\mathbf{Y}[i][j]$ ← $0$<br>\n",
    "      <strong>Output</strong> $m\\times n$ 2-dimensional matrix $\\mathbf{Y}$ with ReLU applied\n",
    "    </td>\n",
    "  </tr>\n",
    "</table>"
   ]
  },
  {
   "cell_type": "markdown",
   "metadata": {},
   "source": [
    "If we apply ReLU function to matrix $\\mathbf{X}$ on (3), it tranformed into (4)  \n",
    "$$\\mathbf{X}=\\left(\\begin{matrix}0&5&0\\\\0&5&3\\\\\\end{matrix}\\right) \\tag{4}$$"
   ]
  },
  {
   "cell_type": "markdown",
   "metadata": {},
   "source": [
    "### Vectorized Method"
   ]
  },
  {
   "cell_type": "code",
   "execution_count": 20,
   "metadata": {},
   "outputs": [],
   "source": [
    "x = np.array([\n",
    "    [0, 5, -2],\n",
    "    [-1, 5, 3]\n",
    "])"
   ]
  },
  {
   "cell_type": "markdown",
   "metadata": {},
   "source": [
    "Like (3), when we assume $2\\times 3$ 2-dimensional matrix $\\mathbf{X}$ as (3)  \n",
    "$$\\mathbf{X}=\\left(\\begin{matrix}0&5&-2\\\\-1&5&3\\\\\\end{matrix}\\right)\\tag{5}$$"
   ]
  },
  {
   "cell_type": "code",
   "execution_count": 21,
   "metadata": {},
   "outputs": [
    {
     "data": {
      "text/plain": [
       "array([[0., 5., 0.],\n",
       "       [0., 5., 3.]])"
      ]
     },
     "execution_count": 21,
     "metadata": {},
     "output_type": "execute_result"
    }
   ],
   "source": [
    "y = np.maximum(x, 0.)\n",
    "y"
   ]
  },
  {
   "cell_type": "markdown",
   "metadata": {},
   "source": []
  }
 ],
 "metadata": {
  "kernelspec": {
   "display_name": "base",
   "language": "python",
   "name": "python3"
  },
  "language_info": {
   "codemirror_mode": {
    "name": "ipython",
    "version": 3
   },
   "file_extension": ".py",
   "mimetype": "text/x-python",
   "name": "python",
   "nbconvert_exporter": "python",
   "pygments_lexer": "ipython3",
   "version": "3.12.3"
  }
 },
 "nbformat": 4,
 "nbformat_minor": 2
}
