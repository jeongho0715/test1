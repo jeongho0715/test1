{
 "cells": [
  {
   "cell_type": "markdown",
   "metadata": {},
   "source": [
    "## Packages"
   ]
  },
  {
   "cell_type": "code",
   "execution_count": 49,
   "metadata": {},
   "outputs": [],
   "source": [
    "import numpy as np"
   ]
  },
  {
   "cell_type": "markdown",
   "metadata": {},
   "source": [
    "## Matrix Addition"
   ]
  },
  {
   "cell_type": "markdown",
   "metadata": {},
   "source": [
    "### Concept"
   ]
  },
  {
   "cell_type": "markdown",
   "metadata": {},
   "source": [
    "Let's assume there is $2\\times 3$ 2-dimensional matrix $\\mathbf{A}, \\mathbf{B}$ as"
   ]
  },
  {
   "cell_type": "markdown",
   "metadata": {},
   "source": [
    "$$\\mathbf{A}=\\left(\\begin{matrix}0&5&-2\\\\-1&5&3\\end{matrix}\\right),\\ \\mathbf{B}=\\left(\\begin{matrix}5&-3&9\\\\-2&1&-4\\end{matrix}\\right) \\tag{1}$$"
   ]
  },
  {
   "cell_type": "markdown",
   "metadata": {},
   "source": [
    "We can get summation of matrix $\\mathbf{A}, \\mathbf{B}$ as"
   ]
  },
  {
   "cell_type": "markdown",
   "metadata": {},
   "source": [
    "$$\\mathbf{A}+\\mathbf{B}=\\left(\\begin{matrix}0&5&-2\\\\-1&5&3\\end{matrix}\\right)+\\left(\\begin{matrix}5&-3&9\\\\-2&1&-4\\end{matrix}\\right)=\\left(\\begin{matrix}5&2&7\\\\-3&6&-1\\end{matrix}\\right) \\tag{2}$$"
   ]
  },
  {
   "cell_type": "markdown",
   "metadata": {},
   "source": [
    "### Naive Method"
   ]
  },
  {
   "cell_type": "code",
   "execution_count": 50,
   "metadata": {},
   "outputs": [],
   "source": [
    "a = np.array([\n",
    "    [0, 5, -2],\n",
    "    [-1, 5, 3]\n",
    "])\n",
    "\n",
    "b = np.array([\n",
    "    [5, -3, 9],\n",
    "    [-2, 1, -4]\n",
    "])"
   ]
  },
  {
   "cell_type": "code",
   "execution_count": 51,
   "metadata": {},
   "outputs": [
    {
     "data": {
      "text/plain": [
       "array([[ 5,  2,  7],\n",
       "       [-3,  6, -1]])"
      ]
     },
     "execution_count": 51,
     "metadata": {},
     "output_type": "execute_result"
    }
   ],
   "source": [
    "def naive_add(a, b):\n",
    "    assert len(a.shape) == 2\n",
    "    assert a.shape == b.shape\n",
    "    a = a.copy()\n",
    "    for i in range(a.shape[0]):\n",
    "        for j in range(a.shape[1]):\n",
    "            a[i, j] += b[i, j]\n",
    "    return a\n",
    "naive_add(a, b)"
   ]
  },
  {
   "cell_type": "markdown",
   "metadata": {},
   "source": [
    "### Vectorized Method"
   ]
  },
  {
   "cell_type": "code",
   "execution_count": 52,
   "metadata": {},
   "outputs": [],
   "source": [
    "a = np.array([\n",
    "    [0, 5, -2],\n",
    "    [-1, 5, 3]\n",
    "])\n",
    "\n",
    "b = np.array([\n",
    "    [5, -3, 9],\n",
    "    [-2, 1, -4]\n",
    "])"
   ]
  },
  {
   "cell_type": "code",
   "execution_count": 53,
   "metadata": {},
   "outputs": [
    {
     "data": {
      "text/plain": [
       "array([[ 5,  2,  7],\n",
       "       [-3,  6, -1]])"
      ]
     },
     "execution_count": 53,
     "metadata": {},
     "output_type": "execute_result"
    }
   ],
   "source": [
    "y = a + b\n",
    "y"
   ]
  },
  {
   "cell_type": "markdown",
   "metadata": {},
   "source": [
    "## Relu"
   ]
  },
  {
   "cell_type": "markdown",
   "metadata": {},
   "source": [
    "### Concept"
   ]
  },
  {
   "cell_type": "markdown",
   "metadata": {},
   "source": [
    "![image](img/graph-relu.png)"
   ]
  },
  {
   "cell_type": "markdown",
   "metadata": {},
   "source": [
    "$$y=max(0, x) \\tag{1}$$"
   ]
  },
  {
   "cell_type": "markdown",
   "metadata": {},
   "source": [
    "Equation (1) can be denoted by (2)"
   ]
  },
  {
   "cell_type": "markdown",
   "metadata": {},
   "source": [
    "$$y=\\begin{cases}0,\\ x> 0\\\\x,\\ x\\leq 0\\end{cases} \\tag{2}$$"
   ]
  },
  {
   "cell_type": "markdown",
   "metadata": {},
   "source": [
    "### Naive Method"
   ]
  },
  {
   "cell_type": "code",
   "execution_count": 54,
   "metadata": {},
   "outputs": [],
   "source": [
    "x = np.array([\n",
    "    [0, 5, -2],\n",
    "    [-1, 5, 3]\n",
    "])"
   ]
  },
  {
   "cell_type": "markdown",
   "metadata": {},
   "source": [
    "Let's assume there is $2\\times 3$ 2-dimensional matrix $\\mathbf{X}$ as (3)"
   ]
  },
  {
   "cell_type": "markdown",
   "metadata": {},
   "source": [
    "$$\\mathbf{X}=\\left(\\begin{matrix}0&5&-2\\\\-1&5&3\\\\\\end{matrix}\\right)\\tag{3}$$"
   ]
  },
  {
   "cell_type": "code",
   "execution_count": 55,
   "metadata": {},
   "outputs": [
    {
     "data": {
      "text/plain": [
       "array([[0, 5, 0],\n",
       "       [0, 5, 3]])"
      ]
     },
     "execution_count": 55,
     "metadata": {},
     "output_type": "execute_result"
    }
   ],
   "source": [
    "def naive_relu(x):\n",
    "    assert len(x.shape) == 2\n",
    "    y = x.copy()\n",
    "    for i in range(y.shape[0]):\n",
    "        for j in range(y.shape[1]):\n",
    "            y[i, j] = max(y[i, j], 0)\n",
    "    return y\n",
    "naive_relu(x)"
   ]
  },
  {
   "cell_type": "markdown",
   "metadata": {},
   "source": [
    "\n",
    "<table style=\"border-collapse: collapse; width: 100%;\">\n",
    "<td style=\"border-top: none; border-bottom: 1px solid black; border-left: none; border-right: none; padding: 8px;\">\n",
    "  <tr>\n",
    "    <td style=\"border-top: none; border-bottom: 1px solid black; border-left: none; border-right: none; padding: 8px;\">\n",
    "      <strong>Algorithm</strong> naive_relu(x)\n",
    "    </td>\n",
    "  </tr>\n",
    "  <tr>\n",
    "    <td style=\"border-top: none; border-bottom: 1px solid black; border-left: none; border-right: none; padding: 8px;\">\n",
    "      <strong>Input</strong> $m\\times n$ 2-dimensional matrix $\\mathbf{X}$<br>\n",
    "      &emsp; <strong>Let</strong> $\\mathbf{Y}$ ← copy of $\\mathbf{X}$<br>\n",
    "      &emsp; <strong>for</strong> $i=0$ <strong>to</strong> $m-1$ <strong>do</strong><br>\n",
    "      &emsp;&emsp; <strong>for</strong> $j=0$ <strong>to</strong> $n-1$ <strong>do</strong><br>\n",
    "      &emsp;&emsp;&emsp; <strong>if</strong> $\\mathbf{Y}[i][j]<0$ <strong>then</strong><br> \n",
    "      &emsp;&emsp;&emsp;&emsp; $\\mathbf{Y}[i][j]$ ← $0$<br>\n",
    "      <strong>Output</strong> $m\\times n$ 2-dimensional matrix $\\mathbf{Y}$ with ReLU applied\n",
    "    </td>\n",
    "  </tr>\n",
    "</table>"
   ]
  },
  {
   "cell_type": "markdown",
   "metadata": {},
   "source": [
    "If we apply ReLU function to matrix $\\mathbf{X}$ on (3), it tranformed into (4)"
   ]
  },
  {
   "cell_type": "markdown",
   "metadata": {},
   "source": [
    "$$\\mathbf{X}=\\left(\\begin{matrix}0&5&0\\\\0&5&3\\\\\\end{matrix}\\right) \\tag{4}$$"
   ]
  },
  {
   "cell_type": "markdown",
   "metadata": {},
   "source": [
    "### Vectorized Method"
   ]
  },
  {
   "cell_type": "code",
   "execution_count": 56,
   "metadata": {},
   "outputs": [],
   "source": [
    "x = np.array([\n",
    "    [0, 5, -2],\n",
    "    [-1, 5, 3]\n",
    "])"
   ]
  },
  {
   "cell_type": "markdown",
   "metadata": {},
   "source": [
    "Like (3), when we assume $2\\times 3$ 2-dimensional matrix $\\mathbf{X}$ as (3)"
   ]
  },
  {
   "cell_type": "markdown",
   "metadata": {},
   "source": [
    "$$\\mathbf{X}=\\left(\\begin{matrix}0&5&-2\\\\-1&5&3\\\\\\end{matrix}\\right)\\tag{5}$$"
   ]
  },
  {
   "cell_type": "code",
   "execution_count": 57,
   "metadata": {},
   "outputs": [
    {
     "data": {
      "text/plain": [
       "array([[0., 5., 0.],\n",
       "       [0., 5., 3.]])"
      ]
     },
     "execution_count": 57,
     "metadata": {},
     "output_type": "execute_result"
    }
   ],
   "source": [
    "y = np.maximum(x, 0.)\n",
    "y"
   ]
  },
  {
   "cell_type": "markdown",
   "metadata": {},
   "source": [
    "## Comparing Execution Time: Naive vs. Vectorized Methods"
   ]
  },
  {
   "cell_type": "markdown",
   "metadata": {},
   "source": [
    "### Matrix Addition"
   ]
  },
  {
   "cell_type": "markdown",
   "metadata": {},
   "source": [
    "### ReLU"
   ]
  },
  {
   "cell_type": "code",
   "execution_count": 58,
   "metadata": {},
   "outputs": [
    {
     "name": "stdout",
     "output_type": "stream",
     "text": [
      "Naive method took: 0.85 s\n",
      "Vectorized method took: 0.00 s\n"
     ]
    }
   ],
   "source": [
    "import time\n",
    "x = np.random.uniform(-10, 10, size=(20, 100))\n",
    "\n",
    "t0 = time.time()\n",
    "for _ in range(1000):\n",
    "    y = naive_relu(x)\n",
    "print(\"Naive method took: {0:.2f} s\".format(time.time() - t0))\n",
    "\n",
    "t0 = time.time()\n",
    "for _ in range(1000):\n",
    "    y = np.maximum(x, 0.)\n",
    "print(\"Vectorized method took: {0:.2f} s\".format(time.time() - t0))"
   ]
  },
  {
   "cell_type": "markdown",
   "metadata": {},
   "source": [
    "When we see the code above, we can see that naive method need more time for applying ReLU function compared to vectorized method."
   ]
  }
 ],
 "metadata": {
  "kernelspec": {
   "display_name": "base",
   "language": "python",
   "name": "python3"
  },
  "language_info": {
   "codemirror_mode": {
    "name": "ipython",
    "version": 3
   },
   "file_extension": ".py",
   "mimetype": "text/x-python",
   "name": "python",
   "nbconvert_exporter": "python",
   "pygments_lexer": "ipython3",
   "version": "3.12.3"
  }
 },
 "nbformat": 4,
 "nbformat_minor": 2
}
