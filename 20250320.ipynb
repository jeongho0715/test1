{
 "cells": [
  {
   "cell_type": "markdown",
   "metadata": {},
   "source": [
    "## Packages"
   ]
  },
  {
   "cell_type": "code",
   "execution_count": null,
   "metadata": {},
   "outputs": [],
   "source": [
    "import numpy as np\n",
    "import time\n",
    "import tensorflow as tf\n",
    "from tensorflow.keras.datasets import mnist"
   ]
  },
  {
   "cell_type": "markdown",
   "metadata": {},
   "source": [
    "---"
   ]
  },
  {
   "cell_type": "markdown",
   "metadata": {},
   "source": [
    "# Vectorized Calculation"
   ]
  },
  {
   "cell_type": "markdown",
   "metadata": {},
   "source": [
    "## Matrix Addition"
   ]
  },
  {
   "cell_type": "markdown",
   "metadata": {},
   "source": [
    "### Concept"
   ]
  },
  {
   "cell_type": "markdown",
   "metadata": {},
   "source": [
    "Let's assume there is $2\\times 3$ 2-dimensional matrices $\\mathbf{A}, \\mathbf{B}$ as"
   ]
  },
  {
   "cell_type": "markdown",
   "metadata": {},
   "source": [
    "$$\\mathbf{A}=\\left(\\begin{matrix}0&5&-2\\\\-1&5&3\\end{matrix}\\right),\\ \\mathbf{B}=\\left(\\begin{matrix}5&-3&9\\\\-2&1&-4\\end{matrix}\\right) \\tag{1}$$"
   ]
  },
  {
   "cell_type": "markdown",
   "metadata": {},
   "source": [
    "Matrix (1) can be generalized as"
   ]
  },
  {
   "cell_type": "markdown",
   "metadata": {},
   "source": [
    "$$\\mathbf{A}=\\left(\\begin{matrix}a_{11}&a_{12}&a_{13}\\\\a_{21}&a_{22}&a_{23}\\\\\\end{matrix}\\right),\\ \\mathbf{B}=\\left(\\begin{matrix}b_{11}&b_{12}&b_{13}\\\\b_{21}&b_{22}&b_{23}\\\\\\end{matrix}\\right)\\tag{2}$$"
   ]
  },
  {
   "cell_type": "markdown",
   "metadata": {},
   "source": [
    "Generalized addition of matrices $\\mathbf{A}, \\mathbf{B}$ can be denoted by"
   ]
  },
  {
   "cell_type": "markdown",
   "metadata": {},
   "source": [
    "$$\\mathbf{A}+\\mathbf{B}=\\left(\\begin{matrix}a_{11}&a_{12}&a_{13}\\\\a_{21}&a_{22}&a_{23}\\\\\\end{matrix}\\right)+\\left(\\begin{matrix}b_{11}&b_{12}&b_{13}\\\\b_{21}&b_{22}&b_{23}\\\\\\end{matrix}\\right)=\\left(\\begin{matrix}a_{11}+b_{11}&a_{12}+b_{12}&a_{13}+b_{13}\\\\a_{21}+b_{21}&a_{22}+b_{22}&a_{23}+b_{23}\\\\\\end{matrix}\\right)\\tag{3}$$"
   ]
  },
  {
   "cell_type": "markdown",
   "metadata": {},
   "source": [
    "With (1) and (3), matrix addition of $\\mathbf{A}$ and $\\mathbf{B}$ can be calculated by"
   ]
  },
  {
   "cell_type": "markdown",
   "metadata": {},
   "source": [
    "$$\\mathbf{A}+\\mathbf{B}=\\left(\\begin{matrix}0&5&-2\\\\-1&5&3\\end{matrix}\\right)+\\left(\\begin{matrix}5&-3&9\\\\-2&1&-4\\end{matrix}\\right)=\\left(\\begin{matrix}5&2&7\\\\-3&6&-1\\end{matrix}\\right) \\tag{4}$$"
   ]
  },
  {
   "cell_type": "markdown",
   "metadata": {},
   "source": [
    "### Naive Method"
   ]
  },
  {
   "cell_type": "markdown",
   "metadata": {},
   "source": [
    "Let's assume there is $2\\times 3$ 2-dimensional matrices $\\mathbf{A}, \\mathbf{B}$ as (1)"
   ]
  },
  {
   "cell_type": "code",
   "execution_count": 130,
   "metadata": {},
   "outputs": [],
   "source": [
    "a = np.array([\n",
    "    [0, 5, -2],\n",
    "    [-1, 5, 3]\n",
    "])\n",
    "\n",
    "b = np.array([\n",
    "    [5, -3, 9],\n",
    "    [-2, 1, -4]\n",
    "])"
   ]
  },
  {
   "cell_type": "markdown",
   "metadata": {},
   "source": [
    "We can make algorithm for addition on matrices $\\mathbf{A}$ and $\\mathbf{B}$ using nested for loop as"
   ]
  },
  {
   "cell_type": "markdown",
   "metadata": {},
   "source": [
    "<hr style=\"width: 100%; margin-left: 0; margin-bottom: 0px; border: 0.5px solid black;\">\n",
    "<strong>Algorithm</strong> naive_add(a, b)\n",
    "<hr style=\"width: 100%; margin-left: 0; margin-top: 0px; margin-bottom: 0px; border: 0.5px solid black;\">\n",
    "<strong>Input</strong> $m\\times n$ 2-dimensional matrices $\\mathbf{A}$ and $\\mathbf{B}$<br>\n",
    "&emsp; <strong>Let</strong> $\\mathbf{C}$ ← copy of $\\mathbf{A}$<br>\n",
    "&emsp; <strong>for</strong> $i=0$ <strong>to</strong> $m-1$ <strong>do</strong><br>\n",
    "&emsp;&emsp; <strong>for</strong> $j=0$ <strong>to</strong> $n-1$ <strong>do</strong><br>\n",
    "&emsp;&emsp;&emsp; $\\mathbf{C}[i][j]=\\mathbf{C}[i][j]+\\mathbf{B}[i][j]$ <br>  \n",
    "<strong>Output</strong> $m\\times n$ 2-dimensional matrix $\\mathbf{C}$, sum of $\\mathbf{A}$ and $\\mathbf{B}$\n",
    "<hr style=\"width: 100%; margin-left: 0; margin-top: 0px; border: 0.5px solid black;\">"
   ]
  },
  {
   "cell_type": "markdown",
   "metadata": {},
   "source": [
    "With algorithm, we can apply matirx addition on python as"
   ]
  },
  {
   "cell_type": "code",
   "execution_count": 131,
   "metadata": {},
   "outputs": [
    {
     "data": {
      "text/plain": [
       "array([[ 5,  2,  7],\n",
       "       [-3,  6, -1]])"
      ]
     },
     "execution_count": 131,
     "metadata": {},
     "output_type": "execute_result"
    }
   ],
   "source": [
    "def naive_add(a, b):\n",
    "    assert len(a.shape) == 2\n",
    "    assert a.shape == b.shape\n",
    "    c = a.copy()\n",
    "    for i in range(c.shape[0]):\n",
    "        for j in range(c.shape[1]):\n",
    "            c[i, j] += b[i, j]\n",
    "    return c\n",
    "naive_add(a, b)"
   ]
  },
  {
   "cell_type": "markdown",
   "metadata": {},
   "source": [
    "### Vectorized Method"
   ]
  },
  {
   "cell_type": "code",
   "execution_count": 132,
   "metadata": {},
   "outputs": [],
   "source": [
    "a = np.array([\n",
    "    [0, 5, -2],\n",
    "    [-1, 5, 3]\n",
    "])\n",
    "\n",
    "b = np.array([\n",
    "    [5, -3, 9],\n",
    "    [-2, 1, -4]\n",
    "])"
   ]
  },
  {
   "cell_type": "code",
   "execution_count": 133,
   "metadata": {},
   "outputs": [
    {
     "data": {
      "text/plain": [
       "array([[ 5,  2,  7],\n",
       "       [-3,  6, -1]])"
      ]
     },
     "execution_count": 133,
     "metadata": {},
     "output_type": "execute_result"
    }
   ],
   "source": [
    "c = a + b\n",
    "c"
   ]
  },
  {
   "cell_type": "markdown",
   "metadata": {},
   "source": [
    "## Relu"
   ]
  },
  {
   "cell_type": "markdown",
   "metadata": {},
   "source": [
    "### Concept"
   ]
  },
  {
   "cell_type": "markdown",
   "metadata": {},
   "source": [
    "![image](img/graph-relu.png)"
   ]
  },
  {
   "cell_type": "markdown",
   "metadata": {},
   "source": [
    "$$f(y)=max(0, x) \\tag{5}$$"
   ]
  },
  {
   "cell_type": "markdown",
   "metadata": {},
   "source": [
    "(5) can be denoted by"
   ]
  },
  {
   "cell_type": "markdown",
   "metadata": {},
   "source": [
    "$$f(y)=\\begin{cases}0,\\ x< 0\\\\x,\\ x\\geq 0\\end{cases} \\tag{6}$$"
   ]
  },
  {
   "cell_type": "markdown",
   "metadata": {},
   "source": [
    "Let's assume there is $2\\times 3$ 2-dimensional matrix $\\mathbf{X}$ as"
   ]
  },
  {
   "cell_type": "markdown",
   "metadata": {},
   "source": [
    "$$\\mathbf{X}=\\left(\\begin{matrix}0&5&-2\\\\-1&5&3\\\\\\end{matrix}\\right)\\tag{7}$$"
   ]
  },
  {
   "cell_type": "markdown",
   "metadata": {},
   "source": [
    "Matrix (7) can be generalized as"
   ]
  },
  {
   "cell_type": "markdown",
   "metadata": {},
   "source": [
    "$$\\mathbf{X}=\\left(\\begin{matrix}x_{11}&x_{12}&x_{13}\\\\x_{21}&x_{22}&x_{23}\\\\\\end{matrix}\\right)\\tag{8}$$"
   ]
  },
  {
   "cell_type": "markdown",
   "metadata": {},
   "source": [
    "Based on (8), if we apply (6) on (7) element-wise,"
   ]
  },
  {
   "cell_type": "markdown",
   "metadata": {},
   "source": [
    "<div align=\"center\">\n",
    "\n",
    "|$x$|Case|$f(x)$|$y$|\n",
    "|:-:|:-:|:-:|:-:|\n",
    "|$x_{11}=0$|$0\\geq 0$|$y=x$|$x_{11}=0$  |\n",
    "|$x_{12}=5$|$5\\geq 0$|$y=x$|$x_{12}=5$ |\n",
    "|$x_{13}=-2$|$-2<0$|$y=0$|$x_{13}=0$ |\n",
    "|$x_{21}=-1$|$-1<0$|$y=0$|$x_{21}=0$ |\n",
    "|$x_{22}=5$|$5\\geq 0$|$y=x$|$x_{22}=5$ |\n",
    "|$x_{23}=3$|$3\\geq 0$|$y=x$|$x_{23}=3$ |\n",
    "\n",
    "</div>"
   ]
  },
  {
   "cell_type": "markdown",
   "metadata": {},
   "source": [
    "Therefore, we can get matrix applied ReLU as"
   ]
  },
  {
   "cell_type": "markdown",
   "metadata": {},
   "source": [
    "$$\\mathbf{Y}=\\left(\\begin{matrix}0&5&0\\\\0&5&3\\\\\\end{matrix}\\right) \\tag{8}$$"
   ]
  },
  {
   "cell_type": "markdown",
   "metadata": {},
   "source": [
    "### Naive Method"
   ]
  },
  {
   "cell_type": "markdown",
   "metadata": {},
   "source": [
    "Let's assume there is $2\\times 3$ 2-dimensional matrix $\\mathbf{X}$ as (7)"
   ]
  },
  {
   "cell_type": "code",
   "execution_count": 134,
   "metadata": {},
   "outputs": [],
   "source": [
    "x = np.array([\n",
    "    [0, 5, -2],\n",
    "    [-1, 5, 3]\n",
    "])"
   ]
  },
  {
   "cell_type": "markdown",
   "metadata": {},
   "source": [
    "We can make algorithm for ReLU on matrix $\\mathbf{X}$ using nested for loop as"
   ]
  },
  {
   "cell_type": "markdown",
   "metadata": {},
   "source": [
    "<hr style=\"width: 100%; margin-left: 0; margin-bottom: 0px; border: 0.5px solid black;\">\n",
    "<strong>Algorithm</strong> naive_relu(x)\n",
    "<hr style=\"width: 100%; margin-left: 0; margin-top: 0px; margin-bottom: 0px; border: 0.5px solid black;\">\n",
    "<strong>Input</strong> $m\\times n$ 2-dimensional matrix $\\mathbf{X}$<br>\n",
    "&emsp; <strong>Let</strong> $\\mathbf{Y}$ ← copy of $\\mathbf{X}$<br>\n",
    "&emsp; <strong>for</strong> $i=0$ <strong>to</strong> $m-1$ <strong>do</strong><br>\n",
    "&emsp;&emsp; <strong>for</strong> $j=0$ <strong>to</strong> $n-1$ <strong>do</strong><br>\n",
    "&emsp;&emsp;&emsp; <strong>if</strong> $\\mathbf{Y}[i][j]<0$ <strong>then</strong><br> \n",
    "&emsp;&emsp;&emsp;&emsp; $\\mathbf{Y}[i][j]$ ← $0$<br>\n",
    "<strong>Output</strong> $m\\times n$ 2-dimensional matrix $\\mathbf{Y}$ with ReLU applied\n",
    "<hr style=\"width: 100%; margin-left: 0; margin-top: 0px; border: 0.5px solid black;\">"
   ]
  },
  {
   "cell_type": "markdown",
   "metadata": {},
   "source": [
    "With algorithm, we can apply ReLU on python as"
   ]
  },
  {
   "cell_type": "code",
   "execution_count": 135,
   "metadata": {},
   "outputs": [
    {
     "data": {
      "text/plain": [
       "array([[0, 5, 0],\n",
       "       [0, 5, 3]])"
      ]
     },
     "execution_count": 135,
     "metadata": {},
     "output_type": "execute_result"
    }
   ],
   "source": [
    "def naive_relu(x):\n",
    "    assert len(x.shape) == 2\n",
    "    y = x.copy()\n",
    "    for i in range(y.shape[0]):\n",
    "        for j in range(y.shape[1]):\n",
    "            y[i, j] = max(y[i, j], 0)\n",
    "    return y\n",
    "naive_relu(x)"
   ]
  },
  {
   "cell_type": "markdown",
   "metadata": {},
   "source": [
    "### Vectorized Method"
   ]
  },
  {
   "cell_type": "markdown",
   "metadata": {},
   "source": [
    "Like previous method, assume $2\\times 3$ 2-dimensional matrix $\\mathbf{X}$ as"
   ]
  },
  {
   "cell_type": "code",
   "execution_count": 136,
   "metadata": {},
   "outputs": [],
   "source": [
    "x = np.array([\n",
    "    [0, 5, -2],\n",
    "    [-1, 5, 3]\n",
    "])"
   ]
  },
  {
   "cell_type": "code",
   "execution_count": 137,
   "metadata": {},
   "outputs": [
    {
     "data": {
      "text/plain": [
       "array([[0., 5., 0.],\n",
       "       [0., 5., 3.]])"
      ]
     },
     "execution_count": 137,
     "metadata": {},
     "output_type": "execute_result"
    }
   ],
   "source": [
    "y = np.maximum(x, 0.)\n",
    "y"
   ]
  },
  {
   "cell_type": "markdown",
   "metadata": {},
   "source": [
    "## Comparing Execution Time: Naive vs. Vectorized Methods"
   ]
  },
  {
   "cell_type": "markdown",
   "metadata": {},
   "source": [
    "### Matrix Addition"
   ]
  },
  {
   "cell_type": "code",
   "execution_count": 138,
   "metadata": {},
   "outputs": [
    {
     "name": "stdout",
     "output_type": "stream",
     "text": [
      "Naive method: 0.85 s\n",
      "Vectorized method: 0.00 s\n"
     ]
    }
   ],
   "source": [
    "a = np.random.uniform(-10, 10, size=(20, 100))\n",
    "b = np.random.uniform(-10, 10, size=(20, 100))\n",
    "\n",
    "t0 = time.time()\n",
    "for _ in range(1000):\n",
    "    c = naive_add(a, b)\n",
    "print(\"Naive method: {0:.2f} s\".format(time.time() - t0))\n",
    "\n",
    "t0 = time.time()\n",
    "for _ in range(1000):\n",
    "    c = a + b\n",
    "print(\"Vectorized method: {0:.2f} s\".format(time.time() - t0))"
   ]
  },
  {
   "cell_type": "markdown",
   "metadata": {},
   "source": [
    "When we see the code above, we can see that naive method need more time for applying matrix addition compared to vectorized method"
   ]
  },
  {
   "cell_type": "markdown",
   "metadata": {},
   "source": [
    "### ReLU"
   ]
  },
  {
   "cell_type": "code",
   "execution_count": 139,
   "metadata": {},
   "outputs": [
    {
     "name": "stdout",
     "output_type": "stream",
     "text": [
      "Naive method: 0.92 s\n",
      "Vectorized method: 0.01 s\n"
     ]
    }
   ],
   "source": [
    "x = np.random.uniform(-10, 10, size=(20, 100))\n",
    "\n",
    "t0 = time.time()\n",
    "for _ in range(1000):\n",
    "    y = naive_relu(x)\n",
    "print(\"Naive method: {0:.2f} s\".format(time.time() - t0))\n",
    "\n",
    "t0 = time.time()\n",
    "for _ in range(1000):\n",
    "    y = np.maximum(x, 0.)\n",
    "print(\"Vectorized method: {0:.2f} s\".format(time.time() - t0))"
   ]
  },
  {
   "cell_type": "markdown",
   "metadata": {},
   "source": [
    "When we see the code above, we can see that naive method need more time for applying ReLU function compared to vectorized method"
   ]
  },
  {
   "cell_type": "markdown",
   "metadata": {},
   "source": [
    "### Conclusion"
   ]
  },
  {
   "cell_type": "markdown",
   "metadata": {},
   "source": [
    "The naive method performs element-wise calculations using a nested for loop, which consumes more computational resources.  \n",
    "On the other hand, the vectorized method uses optimized operations implemented in low-level languages(Computer science).  \n",
    "Therefore, the performance of the vectorized method is significantly better than that of the naive method."
   ]
  },
  {
   "cell_type": "markdown",
   "metadata": {},
   "source": [
    "---"
   ]
  },
  {
   "cell_type": "markdown",
   "metadata": {},
   "source": [
    "# Broadcasting"
   ]
  },
  {
   "cell_type": "markdown",
   "metadata": {},
   "source": [
    "## Concept"
   ]
  },
  {
   "cell_type": "markdown",
   "metadata": {},
   "source": [
    "Let's assume there are $2\\times 3$ 2-dimensional matrix $\\mathbf{A}$ and $1\\times 3$ row vector $\\mathbf{b}$ as"
   ]
  },
  {
   "cell_type": "markdown",
   "metadata": {},
   "source": [
    "$$\\mathbf{A}=\\left(\\begin{matrix}0&5&-2\\\\-1&5&3\\end{matrix}\\right),\\ \\mathbf{b}=\\left(\\begin{matrix}5&-3&9\\\\\\end{matrix}\\right) \\tag{9}$$"
   ]
  },
  {
   "cell_type": "markdown",
   "metadata": {},
   "source": [
    "We can't conduct matrix addition on matrics with different dimension"
   ]
  },
  {
   "cell_type": "markdown",
   "metadata": {},
   "source": [
    "$$\\mathbf{A}+\\mathbf{b}=\\left(\\begin{matrix}0&5&-2\\\\-1&5&3\\end{matrix}\\right)+\\left(\\begin{matrix}5&-3&9\\\\\\end{matrix}\\right)=? \\tag{10}$$"
   ]
  },
  {
   "cell_type": "markdown",
   "metadata": {},
   "source": [
    "Broadcasting fill dimension difference with orignal element of matrix to enable matrix calculation with different dimension  \n",
    "By (9), we have $1\\times3$ row vector $\\mathbf{b}$, if we extend $1\\times3$ row vector to $2\\times3$ matrix, we will be able to calculate (10)"
   ]
  },
  {
   "cell_type": "markdown",
   "metadata": {},
   "source": [
    "$$\\mathbf{b}=\\left(\\begin{matrix}5&-3&9\\\\\\end{matrix}\\right) \\tag{11}$$"
   ]
  },
  {
   "cell_type": "markdown",
   "metadata": {},
   "source": [
    "However, we don't have original value on extended location as"
   ]
  },
  {
   "cell_type": "markdown",
   "metadata": {},
   "source": [
    "$$\\mathbf{b}'=\\left(\\begin{matrix}5&-3&9\\\\?&?&?\\\\\\end{matrix}\\right) \\tag{12}$$"
   ]
  },
  {
   "cell_type": "markdown",
   "metadata": {},
   "source": [
    "In broadcasting, it uses previous elements for unknown values as"
   ]
  },
  {
   "cell_type": "markdown",
   "metadata": {},
   "source": [
    "$$\\mathbf{b}'=\\left(\\begin{matrix}5&-3&9\\\\5&-3&9\\end{matrix}\\right) \\tag{13}$$"
   ]
  },
  {
   "cell_type": "markdown",
   "metadata": {},
   "source": [
    "With (10), (13) we can get matrix addition with broadcating"
   ]
  },
  {
   "cell_type": "markdown",
   "metadata": {},
   "source": [
    "$$\\mathbf{A}+\\mathbf{b}'=\\left(\\begin{matrix}0&5&-2\\\\-1&5&3\\end{matrix}\\right)+\\left(\\begin{matrix}5&-3&9\\\\5&-3&9\\end{matrix}\\right)=\\left(\\begin{matrix}5&2&7\\\\4&2&12\\end{matrix}\\right) \\tag{14}$$"
   ]
  },
  {
   "cell_type": "markdown",
   "metadata": {},
   "source": [
    "When we have generalized form of (11) as"
   ]
  },
  {
   "cell_type": "markdown",
   "metadata": {},
   "source": [
    "$$\\mathbf{b}=\\left(\\begin{matrix}b_{11}&b_{12}&b_{13}\\\\\\end{matrix}\\right) \\tag{15}$$"
   ]
  },
  {
   "cell_type": "markdown",
   "metadata": {},
   "source": [
    "We can horizontly extend (15) using broadcasting as"
   ]
  },
  {
   "cell_type": "markdown",
   "metadata": {},
   "source": [
    "$$\\mathbf{b}'=\\left(\\begin{matrix}b_{11}&b_{12}&b_{13}\\\\b_{11}&b_{12}&b_{13}\\end{matrix}\\right) \\tag{16}$$"
   ]
  },
  {
   "cell_type": "markdown",
   "metadata": {},
   "source": [
    "Also, broadcasting can be used on column vector if we calculate $\\mathbf{A}^T+\\mathbf{b}$"
   ]
  },
  {
   "cell_type": "markdown",
   "metadata": {},
   "source": [
    "$$\\mathbf{b}=\\left(\\begin{matrix}b_{11}\\\\b_{21}\\\\b_{31}\\end{matrix}\\right) \\tag{17}$$"
   ]
  },
  {
   "cell_type": "markdown",
   "metadata": {},
   "source": [
    "We can vertically extend (17) using broadcasting as"
   ]
  },
  {
   "cell_type": "markdown",
   "metadata": {},
   "source": [
    "$$\\mathbf{b}'=\\left(\\begin{matrix}b_{11}&b_{11}\\\\b_{21}&b_{21}\\\\b_{31}&b_{31}\\end{matrix}\\right) \\tag{18}$$"
   ]
  },
  {
   "cell_type": "markdown",
   "metadata": {},
   "source": [
    "Last, broadcasting can be used on scaler like"
   ]
  },
  {
   "cell_type": "markdown",
   "metadata": {},
   "source": [
    "$$b=b_{11}\\tag{19}$$"
   ]
  },
  {
   "cell_type": "markdown",
   "metadata": {},
   "source": [
    "If we apply broadcasting on (19), if we calculate $\\mathbf{A}+b$,"
   ]
  },
  {
   "cell_type": "markdown",
   "metadata": {},
   "source": [
    "$$b'=\\left(\\begin{matrix}b_{11}&b_{11}&b_{11}\\\\b_{11}&b_{11}&b_{11}\\end{matrix}\\right)\\tag{20}$$"
   ]
  },
  {
   "cell_type": "markdown",
   "metadata": {},
   "source": [
    "To apply broadcasting, at least one of the two elements must be a scalar or have a dimension of size 1 in the mismatched axis. Otherwise, broadcasting cannot be applied."
   ]
  },
  {
   "cell_type": "markdown",
   "metadata": {},
   "source": [
    "## Code"
   ]
  },
  {
   "cell_type": "markdown",
   "metadata": {},
   "source": [
    "Let's assume there are $2\\times 3$ 2-dimensional matrix $\\mathbf{A}$ and $1\\times 3$ row vector $\\mathbf{b}$ as (9),"
   ]
  },
  {
   "cell_type": "code",
   "execution_count": 140,
   "metadata": {},
   "outputs": [],
   "source": [
    "a = np.array([\n",
    "    [0, 5, -2],\n",
    "    [-1, 5, 3]\n",
    "])\n",
    "\n",
    "b = np.array([\n",
    "    [5, -3, 9]\n",
    "])"
   ]
  },
  {
   "cell_type": "markdown",
   "metadata": {},
   "source": [
    "If we just conduct matrix addition without any transform, NumPy automatically apply broadcasting to matrix"
   ]
  },
  {
   "cell_type": "code",
   "execution_count": 141,
   "metadata": {},
   "outputs": [
    {
     "data": {
      "text/plain": [
       "array([[ 5,  2,  7],\n",
       "       [ 4,  2, 12]])"
      ]
     },
     "execution_count": 141,
     "metadata": {},
     "output_type": "execute_result"
    }
   ],
   "source": [
    "c = a + b\n",
    "c"
   ]
  },
  {
   "cell_type": "markdown",
   "metadata": {},
   "source": [
    "Broadcasting can be applied on scalar very well"
   ]
  },
  {
   "cell_type": "code",
   "execution_count": 142,
   "metadata": {},
   "outputs": [
    {
     "data": {
      "text/plain": [
       "array([[ 1,  6, -1],\n",
       "       [ 0,  6,  4]])"
      ]
     },
     "execution_count": 142,
     "metadata": {},
     "output_type": "execute_result"
    }
   ],
   "source": [
    "b = 1\n",
    "c = a + b\n",
    "c"
   ]
  },
  {
   "cell_type": "markdown",
   "metadata": {},
   "source": [
    "---"
   ]
  },
  {
   "cell_type": "markdown",
   "metadata": {},
   "source": [
    "# Reshaping"
   ]
  },
  {
   "cell_type": "markdown",
   "metadata": {},
   "source": [
    "## Concept"
   ]
  },
  {
   "cell_type": "markdown",
   "metadata": {},
   "source": [
    "Let's assume there is $3\\times 2$ 2-dimensional matrix $\\mathbf{X}$ as"
   ]
  },
  {
   "cell_type": "markdown",
   "metadata": {},
   "source": [
    "$$\\mathbf{X}=\\left(\\begin{matrix}0&1\\\\2&3\\\\4&5\\\\\\end{matrix}\\right)\\tag{21}$$"
   ]
  },
  {
   "cell_type": "markdown",
   "metadata": {},
   "source": [
    "But for matrix operations, we have to reshape it into a vector. We can change form into $6\\times1$ column vector like"
   ]
  },
  {
   "cell_type": "markdown",
   "metadata": {},
   "source": [
    "$$\\mathbf{X}'=\\left(\\begin{matrix}0\\\\1\\\\2\\\\3\\\\4\\\\5\\\\\\end{matrix}\\right)\\tag{22}$$"
   ]
  },
  {
   "cell_type": "markdown",
   "metadata": {},
   "source": [
    "To apply reshaping, the total number of elements before and after reshaping must be same."
   ]
  },
  {
   "cell_type": "markdown",
   "metadata": {},
   "source": [
    "## Code"
   ]
  },
  {
   "cell_type": "markdown",
   "metadata": {},
   "source": [
    "Let's assume there is $3\\times 2$ 2-dimensional matrix $\\mathbf{X}$ as (22)"
   ]
  },
  {
   "cell_type": "code",
   "execution_count": 146,
   "metadata": {},
   "outputs": [
    {
     "data": {
      "text/plain": [
       "(3, 2)"
      ]
     },
     "execution_count": 146,
     "metadata": {},
     "output_type": "execute_result"
    }
   ],
   "source": [
    "x = np.array([[0., 1.],\n",
    "             [2., 3.],\n",
    "             [4., 5.]])\n",
    "x.shape"
   ]
  },
  {
   "cell_type": "markdown",
   "metadata": {},
   "source": [
    "By .reshape() method, we can change $3\\times 2$ 2-dimensional matrix into $6\\times1$ column vector"
   ]
  },
  {
   "cell_type": "code",
   "execution_count": 148,
   "metadata": {},
   "outputs": [
    {
     "data": {
      "text/plain": [
       "(6, 1)"
      ]
     },
     "execution_count": 148,
     "metadata": {},
     "output_type": "execute_result"
    }
   ],
   "source": [
    "x = x.reshape((6, 1))\n",
    "x.shape"
   ]
  },
  {
   "cell_type": "markdown",
   "metadata": {},
   "source": [
    "We can apply this method on image data too. When we have $60,000$ images with $28\\times28$ pixels,"
   ]
  },
  {
   "cell_type": "code",
   "execution_count": 143,
   "metadata": {},
   "outputs": [
    {
     "data": {
      "text/plain": [
       "(60000, 28, 28)"
      ]
     },
     "execution_count": 143,
     "metadata": {},
     "output_type": "execute_result"
    }
   ],
   "source": [
    "(train_images, train_labels), (test_images, test_labels) = mnist.load_data()\n",
    "train_images.shape"
   ]
  },
  {
   "cell_type": "markdown",
   "metadata": {},
   "source": [
    "Image data with $28\\times28$ pixels, can be denoted as $28\\times28$ 2-dimensional matrix, can be transformed into $784\\times1$ column vector"
   ]
  },
  {
   "cell_type": "code",
   "execution_count": 145,
   "metadata": {},
   "outputs": [
    {
     "data": {
      "text/plain": [
       "(60000, 784)"
      ]
     },
     "execution_count": 145,
     "metadata": {},
     "output_type": "execute_result"
    }
   ],
   "source": [
    "train_images = train_images.reshape((60000, 28 * 28))\n",
    "train_images.shape"
   ]
  }
 ],
 "metadata": {
  "kernelspec": {
   "display_name": "base",
   "language": "python",
   "name": "python3"
  },
  "language_info": {
   "codemirror_mode": {
    "name": "ipython",
    "version": 3
   },
   "file_extension": ".py",
   "mimetype": "text/x-python",
   "name": "python",
   "nbconvert_exporter": "python",
   "pygments_lexer": "ipython3",
   "version": "3.12.3"
  }
 },
 "nbformat": 4,
 "nbformat_minor": 2
}
