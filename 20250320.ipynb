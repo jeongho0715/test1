{
 "cells": [
  {
   "cell_type": "markdown",
   "metadata": {},
   "source": [
    "## Packages"
   ]
  },
  {
   "cell_type": "code",
   "execution_count": 59,
   "metadata": {},
   "outputs": [],
   "source": [
    "import numpy as np"
   ]
  },
  {
   "cell_type": "markdown",
   "metadata": {},
   "source": [
    "## Matrix Addition"
   ]
  },
  {
   "cell_type": "markdown",
   "metadata": {},
   "source": [
    "### Concept"
   ]
  },
  {
   "cell_type": "markdown",
   "metadata": {},
   "source": [
    "Let's assume there is $2\\times 3$ 2-dimensional matrices $\\mathbf{A}, \\mathbf{B}$ as"
   ]
  },
  {
   "cell_type": "markdown",
   "metadata": {},
   "source": [
    "$$\\mathbf{A}=\\left(\\begin{matrix}0&5&-2\\\\-1&5&3\\end{matrix}\\right),\\ \\mathbf{B}=\\left(\\begin{matrix}5&-3&9\\\\-2&1&-4\\end{matrix}\\right) \\tag{1}$$"
   ]
  },
  {
   "cell_type": "markdown",
   "metadata": {},
   "source": [
    "Matrix (1) can be generalized as"
   ]
  },
  {
   "cell_type": "markdown",
   "metadata": {},
   "source": [
    "$$\\mathbf{A}=\\left(\\begin{matrix}a_{11}&a_{12}&a_{13}\\\\a_{21}&a_{22}&a_{23}\\\\\\end{matrix}\\right),\\ \\mathbf{B}=\\left(\\begin{matrix}b_{11}&b_{12}&b_{13}\\\\b_{21}&b_{22}&b_{23}\\\\\\end{matrix}\\right)\\tag{2}$$"
   ]
  },
  {
   "cell_type": "markdown",
   "metadata": {},
   "source": [
    "Generalized addition of matrices $\\mathbf{A}, \\mathbf{B}$ can be denoted by"
   ]
  },
  {
   "cell_type": "markdown",
   "metadata": {},
   "source": [
    "$$\\mathbf{A}+\\mathbf{B}=\\left(\\begin{matrix}a_{11}&a_{12}&a_{13}\\\\a_{21}&a_{22}&a_{23}\\\\\\end{matrix}\\right)+\\left(\\begin{matrix}b_{11}&b_{12}&b_{13}\\\\b_{21}&b_{22}&b_{23}\\\\\\end{matrix}\\right)=\\left(\\begin{matrix}a_{11}+b_{11}&a_{12}+b_{12}&a_{13}+b_{13}\\\\a_{21}+b_{21}&a_{22}+b_{22}&a_{23}+b_{23}\\\\\\end{matrix}\\right)\\tag{3}$$"
   ]
  },
  {
   "cell_type": "markdown",
   "metadata": {},
   "source": [
    "With (1) and (3), matrix addition of $\\mathbf{A}$ and $\\mathbf{B}$ can be calculated by"
   ]
  },
  {
   "cell_type": "markdown",
   "metadata": {},
   "source": [
    "$$\\mathbf{A}+\\mathbf{B}=\\left(\\begin{matrix}0&5&-2\\\\-1&5&3\\end{matrix}\\right)+\\left(\\begin{matrix}5&-3&9\\\\-2&1&-4\\end{matrix}\\right)=\\left(\\begin{matrix}5&2&7\\\\-3&6&-1\\end{matrix}\\right) \\tag{4}$$"
   ]
  },
  {
   "cell_type": "markdown",
   "metadata": {},
   "source": [
    "### Naive Method"
   ]
  },
  {
   "cell_type": "markdown",
   "metadata": {},
   "source": [
    "Let's assume there is $2\\times 3$ 2-dimensional matrices $\\mathbf{A}, \\mathbf{B}$ as (1)"
   ]
  },
  {
   "cell_type": "code",
   "execution_count": 60,
   "metadata": {},
   "outputs": [],
   "source": [
    "a = np.array([\n",
    "    [0, 5, -2],\n",
    "    [-1, 5, 3]\n",
    "])\n",
    "\n",
    "b = np.array([\n",
    "    [5, -3, 9],\n",
    "    [-2, 1, -4]\n",
    "])"
   ]
  },
  {
   "cell_type": "markdown",
   "metadata": {},
   "source": [
    "We can make algorithm for addition on matrices $\\mathbf{A}$ and $\\mathbf{B}$ using nested for loop as"
   ]
  },
  {
   "cell_type": "markdown",
   "metadata": {},
   "source": [
    "<hr style=\"width: 100%; margin-left: 0; margin-bottom: 0px; border: 0.5px solid black;\">\n",
    "<strong>Algorithm</strong> naive_add(a, b)\n",
    "<hr style=\"width: 100%; margin-left: 0; margin-top: 0px; margin-bottom: 0px; border: 0.5px solid black;\">\n",
    "<strong>Input</strong> $m\\times n$ 2-dimensional matrices $\\mathbf{A}$ and $\\mathbf{B}$<br>\n",
    "&emsp; <strong>Let</strong> $\\mathbf{C}$ ← copy of $\\mathbf{A}$<br>\n",
    "&emsp; <strong>for</strong> $i=0$ <strong>to</strong> $m-1$ <strong>do</strong><br>\n",
    "&emsp;&emsp; <strong>for</strong> $j=0$ <strong>to</strong> $n-1$ <strong>do</strong><br>\n",
    "&emsp;&emsp;&emsp; $\\mathbf{C}[i][j]=\\mathbf{C}[i][j]+\\mathbf{B}[i][j]$ <br>  \n",
    "<strong>Output</strong> $m\\times n$ 2-dimensional matrix $\\mathbf{C}$, sum of $\\mathbf{A}$ and $\\mathbf{B}$\n",
    "<hr style=\"width: 100%; margin-left: 0; margin-top: 0px; border: 0.5px solid black;\">"
   ]
  },
  {
   "cell_type": "markdown",
   "metadata": {},
   "source": [
    "With algorithm, we can apply matirx addition on python as"
   ]
  },
  {
   "cell_type": "code",
   "execution_count": 61,
   "metadata": {},
   "outputs": [
    {
     "data": {
      "text/plain": [
       "array([[ 5,  2,  7],\n",
       "       [-3,  6, -1]])"
      ]
     },
     "execution_count": 61,
     "metadata": {},
     "output_type": "execute_result"
    }
   ],
   "source": [
    "def naive_add(a, b):\n",
    "    assert len(a.shape) == 2\n",
    "    assert a.shape == b.shape\n",
    "    c = a.copy()\n",
    "    for i in range(c.shape[0]):\n",
    "        for j in range(c.shape[1]):\n",
    "            c[i, j] += b[i, j]\n",
    "    return c\n",
    "naive_add(a, b)"
   ]
  },
  {
   "cell_type": "markdown",
   "metadata": {},
   "source": [
    "### Vectorized Method"
   ]
  },
  {
   "cell_type": "code",
   "execution_count": 62,
   "metadata": {},
   "outputs": [],
   "source": [
    "a = np.array([\n",
    "    [0, 5, -2],\n",
    "    [-1, 5, 3]\n",
    "])\n",
    "\n",
    "b = np.array([\n",
    "    [5, -3, 9],\n",
    "    [-2, 1, -4]\n",
    "])"
   ]
  },
  {
   "cell_type": "code",
   "execution_count": 63,
   "metadata": {},
   "outputs": [
    {
     "data": {
      "text/plain": [
       "array([[ 5,  2,  7],\n",
       "       [-3,  6, -1]])"
      ]
     },
     "execution_count": 63,
     "metadata": {},
     "output_type": "execute_result"
    }
   ],
   "source": [
    "y = a + b\n",
    "y"
   ]
  },
  {
   "cell_type": "markdown",
   "metadata": {},
   "source": [
    "## Relu"
   ]
  },
  {
   "cell_type": "markdown",
   "metadata": {},
   "source": [
    "### Concept"
   ]
  },
  {
   "cell_type": "markdown",
   "metadata": {},
   "source": [
    "![image](img/graph-relu.png)"
   ]
  },
  {
   "cell_type": "markdown",
   "metadata": {},
   "source": [
    "$$f(y)=max(0, x) \\tag{5}$$"
   ]
  },
  {
   "cell_type": "markdown",
   "metadata": {},
   "source": [
    "(5) can be denoted by"
   ]
  },
  {
   "cell_type": "markdown",
   "metadata": {},
   "source": [
    "$$f(y)=\\begin{cases}0,\\ x< 0\\\\x,\\ x\\geq 0\\end{cases} \\tag{6}$$"
   ]
  },
  {
   "cell_type": "markdown",
   "metadata": {},
   "source": [
    "Let's assume there is $2\\times 3$ 2-dimensional matrix $\\mathbf{X}$ as"
   ]
  },
  {
   "cell_type": "markdown",
   "metadata": {},
   "source": [
    "$$\\mathbf{X}=\\left(\\begin{matrix}0&5&-2\\\\-1&5&3\\\\\\end{matrix}\\right)\\tag{7}$$"
   ]
  },
  {
   "cell_type": "markdown",
   "metadata": {},
   "source": [
    "Matrix (7) can be generalized as"
   ]
  },
  {
   "cell_type": "markdown",
   "metadata": {},
   "source": [
    "$$\\mathbf{X}=\\left(\\begin{matrix}x_{11}&x_{12}&x_{13}\\\\x_{21}&x_{22}&x_{23}\\\\\\end{matrix}\\right)\\tag{8}$$"
   ]
  },
  {
   "cell_type": "markdown",
   "metadata": {},
   "source": [
    "Based on (8), if we apply (6) on (7) element-wise,"
   ]
  },
  {
   "cell_type": "markdown",
   "metadata": {},
   "source": [
    "<div align=\"center\">\n",
    "\n",
    "|$x$|Case|$f(x)$|$y$|\n",
    "|:-:|:-:|:-:|:-:|\n",
    "|$x_{11}=0$|$0\\geq 0$|$y=x$|$x_{11}=0$  |\n",
    "|$x_{12}=5$|$5\\geq 0$|$y=x$|$x_{12}=5$ |\n",
    "|$x_{13}=-2$|$-2<0$|$y=0$|$x_{13}=0$ |\n",
    "|$x_{21}=-1$|$-1<0$|$y=0$|$x_{21}=0$ |\n",
    "|$x_{22}=5$|$5\\geq 0$|$y=x$|$x_{22}=5$ |\n",
    "|$x_{23}=3$|$3\\geq 0$|$y=x$|$x_{23}=3$ |\n",
    "\n",
    "</div>"
   ]
  },
  {
   "cell_type": "markdown",
   "metadata": {},
   "source": [
    "Therefore, we can get matrix applied ReLU as"
   ]
  },
  {
   "cell_type": "markdown",
   "metadata": {},
   "source": [
    "$$\\mathbf{Y}=\\left(\\begin{matrix}0&5&0\\\\0&5&3\\\\\\end{matrix}\\right) \\tag{8}$$"
   ]
  },
  {
   "cell_type": "markdown",
   "metadata": {},
   "source": [
    "### Naive Method"
   ]
  },
  {
   "cell_type": "markdown",
   "metadata": {},
   "source": [
    "Let's assume there is $2\\times 3$ 2-dimensional matrix $\\mathbf{X}$ as (7)"
   ]
  },
  {
   "cell_type": "code",
   "execution_count": 64,
   "metadata": {},
   "outputs": [],
   "source": [
    "x = np.array([\n",
    "    [0, 5, -2],\n",
    "    [-1, 5, 3]\n",
    "])"
   ]
  },
  {
   "cell_type": "markdown",
   "metadata": {},
   "source": [
    "We can make algorithm for ReLU on matrix $\\mathbf{X}$ using nested for loop as"
   ]
  },
  {
   "cell_type": "markdown",
   "metadata": {},
   "source": [
    "<hr style=\"width: 100%; margin-left: 0; margin-bottom: 0px; border: 0.5px solid black;\">\n",
    "<strong>Algorithm</strong> naive_relu(x)\n",
    "<hr style=\"width: 100%; margin-left: 0; margin-top: 0px; margin-bottom: 0px; border: 0.5px solid black;\">\n",
    "<strong>Input</strong> $m\\times n$ 2-dimensional matrix $\\mathbf{X}$<br>\n",
    "&emsp; <strong>Let</strong> $\\mathbf{Y}$ ← copy of $\\mathbf{X}$<br>\n",
    "&emsp; <strong>for</strong> $i=0$ <strong>to</strong> $m-1$ <strong>do</strong><br>\n",
    "&emsp;&emsp; <strong>for</strong> $j=0$ <strong>to</strong> $n-1$ <strong>do</strong><br>\n",
    "&emsp;&emsp;&emsp; <strong>if</strong> $\\mathbf{Y}[i][j]<0$ <strong>then</strong><br> \n",
    "&emsp;&emsp;&emsp;&emsp; $\\mathbf{Y}[i][j]$ ← $0$<br>\n",
    "<strong>Output</strong> $m\\times n$ 2-dimensional matrix $\\mathbf{Y}$ with ReLU applied\n",
    "<hr style=\"width: 100%; margin-left: 0; margin-top: 0px; border: 0.5px solid black;\">"
   ]
  },
  {
   "cell_type": "markdown",
   "metadata": {},
   "source": [
    "With algorithm, we can apply ReLU on python as"
   ]
  },
  {
   "cell_type": "code",
   "execution_count": 65,
   "metadata": {},
   "outputs": [
    {
     "data": {
      "text/plain": [
       "array([[0, 5, 0],\n",
       "       [0, 5, 3]])"
      ]
     },
     "execution_count": 65,
     "metadata": {},
     "output_type": "execute_result"
    }
   ],
   "source": [
    "def naive_relu(x):\n",
    "    assert len(x.shape) == 2\n",
    "    y = x.copy()\n",
    "    for i in range(y.shape[0]):\n",
    "        for j in range(y.shape[1]):\n",
    "            y[i, j] = max(y[i, j], 0)\n",
    "    return y\n",
    "naive_relu(x)"
   ]
  },
  {
   "cell_type": "markdown",
   "metadata": {},
   "source": [
    "### Vectorized Method"
   ]
  },
  {
   "cell_type": "markdown",
   "metadata": {},
   "source": [
    "Like previous method, assume $2\\times 3$ 2-dimensional matrix $\\mathbf{X}$ as"
   ]
  },
  {
   "cell_type": "code",
   "execution_count": 66,
   "metadata": {},
   "outputs": [],
   "source": [
    "x = np.array([\n",
    "    [0, 5, -2],\n",
    "    [-1, 5, 3]\n",
    "])"
   ]
  },
  {
   "cell_type": "code",
   "execution_count": 67,
   "metadata": {},
   "outputs": [
    {
     "data": {
      "text/plain": [
       "array([[0., 5., 0.],\n",
       "       [0., 5., 3.]])"
      ]
     },
     "execution_count": 67,
     "metadata": {},
     "output_type": "execute_result"
    }
   ],
   "source": [
    "y = np.maximum(x, 0.)\n",
    "y"
   ]
  },
  {
   "cell_type": "markdown",
   "metadata": {},
   "source": [
    "## Comparing Execution Time: Naive vs. Vectorized Methods"
   ]
  },
  {
   "cell_type": "markdown",
   "metadata": {},
   "source": [
    "### Matrix Addition"
   ]
  },
  {
   "cell_type": "markdown",
   "metadata": {},
   "source": [
    "### ReLU"
   ]
  },
  {
   "cell_type": "code",
   "execution_count": 68,
   "metadata": {},
   "outputs": [
    {
     "name": "stdout",
     "output_type": "stream",
     "text": [
      "Naive method took: 0.85 s\n",
      "Vectorized method took: 0.00 s\n"
     ]
    }
   ],
   "source": [
    "import time\n",
    "x = np.random.uniform(-10, 10, size=(20, 100))\n",
    "\n",
    "t0 = time.time()\n",
    "for _ in range(1000):\n",
    "    y = naive_relu(x)\n",
    "print(\"Naive method took: {0:.2f} s\".format(time.time() - t0))\n",
    "\n",
    "t0 = time.time()\n",
    "for _ in range(1000):\n",
    "    y = np.maximum(x, 0.)\n",
    "print(\"Vectorized method took: {0:.2f} s\".format(time.time() - t0))"
   ]
  },
  {
   "cell_type": "markdown",
   "metadata": {},
   "source": [
    "When we see the code above, we can see that naive method need more time for applying ReLU function compared to vectorized method."
   ]
  }
 ],
 "metadata": {
  "kernelspec": {
   "display_name": "base",
   "language": "python",
   "name": "python3"
  },
  "language_info": {
   "codemirror_mode": {
    "name": "ipython",
    "version": 3
   },
   "file_extension": ".py",
   "mimetype": "text/x-python",
   "name": "python",
   "nbconvert_exporter": "python",
   "pygments_lexer": "ipython3",
   "version": "3.12.3"
  }
 },
 "nbformat": 4,
 "nbformat_minor": 2
}
