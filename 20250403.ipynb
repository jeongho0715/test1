{
 "cells": [
  {
   "cell_type": "markdown",
   "metadata": {},
   "source": [
    "# Packages"
   ]
  },
  {
   "cell_type": "code",
   "execution_count": 57,
   "metadata": {},
   "outputs": [],
   "source": [
    "from tensorflow import keras\n",
    "from tensorflow.keras import layers\n",
    "from tensorflow.keras.datasets import mnist\n",
    "from tensorflow.keras.datasets import boston_housing\n",
    "from tensorflow.keras.utils import plot_model\n",
    "import numpy as np"
   ]
  },
  {
   "cell_type": "markdown",
   "metadata": {},
   "source": [
    "## Standardizing Data"
   ]
  },
  {
   "cell_type": "code",
   "execution_count": 58,
   "metadata": {},
   "outputs": [],
   "source": [
    "(train_data, train_targets), (test_data, test_targets) = boston_housing.load_data()"
   ]
  },
  {
   "cell_type": "markdown",
   "metadata": {},
   "source": [
    "We have $404\\times13$ 2-dimensional matrix for train data"
   ]
  },
  {
   "cell_type": "markdown",
   "metadata": {},
   "source": [
    "$$\\mathbf{X} _{train}=\\left(\\begin{matrix}x_{11}^{(train)}&x_{12}^{(train)}&\\cdots&x_{1,13}^{(train)}\\\\x_{21}^{(train)}&x_{22}^{(train)}&\\cdots&x_{2,13}^{(train)}\\\\\\vdots&\\ddots&\\ddots&\\vdots\\\\x_{404,1}^{(train)}&x_{404,2}^{(train)}&\\cdots&x_{404,13}^{(train)}\\end{matrix}\\right)\\tag{1}$$"
   ]
  },
  {
   "cell_type": "code",
   "execution_count": 59,
   "metadata": {},
   "outputs": [
    {
     "data": {
      "text/plain": [
       "(404, 13)"
      ]
     },
     "execution_count": 59,
     "metadata": {},
     "output_type": "execute_result"
    }
   ],
   "source": [
    "train_data.shape"
   ]
  },
  {
   "cell_type": "markdown",
   "metadata": {},
   "source": [
    "We have $102\\times13$ 2-dimensional matrix for test data"
   ]
  },
  {
   "cell_type": "markdown",
   "metadata": {},
   "source": [
    "$$\\mathbf{X} _{test}=\\left(\\begin{matrix}x_{11}^{(test)}&x_{12}^{(test)}&\\cdots&x_{1,13}^{(test)}\\\\x_{21}^{(test)}&x_{22}^{(test)}&\\cdots&x_{2,13}^{(test)}\\\\\\vdots&\\vdots&\\ddots&\\vdots\\\\x_{102,1}^{(test)}&x_{102,2}^{(test)}&\\cdots&x_{102,13}^{(test)}\\end{matrix}\\right)\\tag{2}$$"
   ]
  },
  {
   "cell_type": "code",
   "execution_count": 60,
   "metadata": {},
   "outputs": [
    {
     "data": {
      "text/plain": [
       "(102, 13)"
      ]
     },
     "execution_count": 60,
     "metadata": {},
     "output_type": "execute_result"
    }
   ],
   "source": [
    "test_data.shape"
   ]
  },
  {
   "cell_type": "markdown",
   "metadata": {},
   "source": [
    "Using (1), we can get mean of training data like"
   ]
  },
  {
   "cell_type": "markdown",
   "metadata": {},
   "source": [
    "$$\\bar{x}_{.1}^{(train)}=\\frac{1}{404}(x_{11}^{(train)}+x_{21}^{(train)}+\\cdots+x_{404}^{(train)})\\tag{3}$$"
   ]
  },
  {
   "cell_type": "markdown",
   "metadata": {},
   "source": [
    "$$\\bar{\\mathbf{x}}=\\left(\\begin{matrix}\\bar{x}_{.1}&\\bar{x}_{.2}&\\cdots&\\bar{x}_{.13}\\end{matrix}\\right)\\tag{4}$$"
   ]
  },
  {
   "cell_type": "code",
   "execution_count": 61,
   "metadata": {},
   "outputs": [],
   "source": [
    "mean = train_data.mean(axis=0)"
   ]
  },
  {
   "cell_type": "markdown",
   "metadata": {},
   "source": [
    "We can standardize data by"
   ]
  },
  {
   "cell_type": "markdown",
   "metadata": {},
   "source": [
    "$$x_{ij}^{(std)}=\\frac{x_{ij}-\\bar{x} _{.j}}{s_{j}}\\ \\forall i=1, 2, \\cdots, n, j=1, 2, \\cdots, d \\tag{5}$$\n"
   ]
  },
  {
   "cell_type": "markdown",
   "metadata": {},
   "source": [
    "With (1), (4), we can get"
   ]
  },
  {
   "cell_type": "markdown",
   "metadata": {},
   "source": [
    "$$\\mathbf{X} _{train}-\\bar{\\mathbf{x}} _{train}=\\left(\\begin{matrix}x_{11}^{(train)}&x_{12}^{(train)}&\\cdots&x_{1,13}^{(train)}\\\\x_{21}^{(train)}&x_{22}^{(train)}&\\cdots&x_{2,13}^{(train)}\\\\\\vdots&\\vdots&\\ddots&\\vdots\\\\x_{404,1}^{(train)}&x_{404,2}^{(train)}&\\cdots&x_{404,13}^{(train)}\\end{matrix}\\right)-\\left(\\begin{matrix}\\bar{x}_{.1}^{(train)}&\\bar{x}_{.2}^{(train)}&\\cdots&\\bar{x}_{.13}^{(train)}\\end{matrix}\\right)=\\left(\\begin{matrix}x_{11}^{(train)}-\\bar{x}_{.1}^{(train)}&x_{12}^{(train)}-\\bar{x}_{.2}^{(train)}&\\cdots&x_{1,13}^{(train)}-\\bar{x}_{.13}^{(train)}\\\\x_{21}^{(train)}-\\bar{x}_{.1}^{(train)}&x_{22}^{(train)}-\\bar{x}_{.2}^{(train)}&\\cdots&x_{2,13}^{(train)}-\\bar{x}_{.13}^{(train)}\\\\\\vdots&\\vdots&\\ddots&\\vdots\\\\x_{404,1}^{(train)}-\\bar{x}_{.1}^{(train)}&x_{404,2}^{(train)}-\\bar{x}_{.2}^{(train)}&\\cdots&x_{404,13}^{(train)}-\\bar{x}_{.13}^{(train)}\\end{matrix}\\right)\\tag{6}$$"
   ]
  },
  {
   "cell_type": "code",
   "execution_count": 62,
   "metadata": {},
   "outputs": [],
   "source": [
    "train_data -= mean"
   ]
  },
  {
   "cell_type": "markdown",
   "metadata": {},
   "source": [
    "Standard deviation of training data can be calculated by"
   ]
  },
  {
   "cell_type": "markdown",
   "metadata": {},
   "source": [
    "$$s_j^{(train)}=\\sqrt{\\frac{1}{n_{train}-1}\\sum^{n_{train}}_{i=1}(x_{ij}^{(train)}-\\bar{x} _{.j}^{(train)})^2}\\tag{7}$$"
   ]
  },
  {
   "cell_type": "markdown",
   "metadata": {},
   "source": [
    "$$\\mathbf{s}_{train}=\\sqrt{\\frac{1}{n_{train}-1}diag((\\mathbf{X}^{(train)}-\\bar{\\mathbf{x}}^{(train)})^T(\\mathbf{X}^{(train)}-\\bar{\\mathbf{x}}^{(train)}))}\\tag{8}$$"
   ]
  },
  {
   "cell_type": "markdown",
   "metadata": {},
   "source": [
    "$$\\mathbf{s}_{train}=\\left(\\begin{matrix}s_1^{(train)}&s_2^{(train)}&\\cdots&s_{13}^{(train)}\\end{matrix}\\right)\\tag{9}$$"
   ]
  },
  {
   "cell_type": "code",
   "execution_count": 63,
   "metadata": {},
   "outputs": [],
   "source": [
    "std = train_data.std(axis=0)"
   ]
  },
  {
   "cell_type": "markdown",
   "metadata": {},
   "source": [
    "By (6), (9) we can calculate standardized train data as"
   ]
  },
  {
   "cell_type": "markdown",
   "metadata": {},
   "source": [
    "$$\\mathbf{X} _{train}^{(std)}=(\\mathbf{X} _{train}-\\bar{\\mathbf{x}}_{train})⊘\\mathbf{s}=\\left(\\begin{matrix}x_{11}^{(train)}-\\bar{x}_{.1}^{(train)}&x_{12}^{(train)}-\\bar{x}_{.2}^{(train)}&\\cdots&x_{113}^{(train)}-\\bar{x}_{.13}^{(train)}\\\\x_{21}^{(train)}-\\bar{x}_{.1}^{(train)}&x_{22}^{(train)}-\\bar{x}_{.2}^{(train)}&\\cdots&x_{213}^{(train)}-\\bar{x}_{.13}^{(train)}\\\\\\vdots&\\vdots&\\ddots&\\vdots\\\\x_{4041}^{(train)}-\\bar{x}_{.1}^{(train)}&x_{4042}^{(train)}-\\bar{x}_{.2}^{(train)}&\\cdots&x_{40413}^{(train)}-\\bar{x}_{.13}^{(train)}\\end{matrix}\\right)⊘\\left(\\begin{matrix}s_1^{(train)}&s_2^{(train)}&\\cdots&s_{13}^{(train)}\\end{matrix}\\right)\\tag{10}$$"
   ]
  },
  {
   "cell_type": "markdown",
   "metadata": {},
   "source": [
    "$$=\\left(\\begin{matrix}\\frac{x_{11}^{(train)}-\\bar{x}_{.1}^{(train)}}{s_1^{(train)}}&\\frac{x_{12}^{(train)}-\\bar{x}_{.2}^{(train)}}{s_2^{(train)}}&\\cdots&\\frac{x_{113}^{(train)}-\\bar{x}_{.13}^{(train)}}{s_{13}^{(train)}}\\\\\\frac{x_{21}^{(train)}-\\bar{x}_{.1}^{(train)}}{s_1^{(train)}}&\\frac{x_{22}^{(train)}-\\bar{x}_{.2}^{(train)}}{s_2^{(train)}}&\\cdots&\\frac{x_{213}^{(train)}-\\bar{x}_{.13}^{(train)}}{s_{13}^{(train)}}\\\\\\vdots&\\vdots&\\ddots&\\vdots\\\\\\frac{x_{4041}^{(train)}-\\bar{x}_{.1}^{(train)}}{s_1^{(train)}}&\\frac{x_{4042}^{(train)}-\\bar{x}_{.2}^{(train)}}{s_2^{(train)}}&\\cdots&\\frac{x_{40413}^{(train)}-\\bar{x}_{.13}^{(train)}}{s_{13}^{(train)}}\\end{matrix}\\right)\\tag{11}$$"
   ]
  },
  {
   "cell_type": "code",
   "execution_count": 64,
   "metadata": {},
   "outputs": [],
   "source": [
    "train_data /= std"
   ]
  },
  {
   "cell_type": "markdown",
   "metadata": {},
   "source": [
    "Like (3)-(11), we can get standardized test data as"
   ]
  },
  {
   "cell_type": "markdown",
   "metadata": {},
   "source": [
    "$$\\mathbf{X} _{test}^{(std)}=\\left(\\begin{matrix}\\frac{x_{11}^{(test)}-\\bar{x}_{.1}^{(test)}}{s_1^{(test)}}&\\frac{x_{12}^{(test)}-\\bar{x}_{.2}^{(test)}}{s_2^{(test)}}&\\cdots&\\frac{x_{113}^{(test)}-\\bar{x}_{.13}^{(test)}}{s_{13}^{(test)}}\\\\\\frac{x_{21}^{(test)}-\\bar{x}_{.1}^{(test)}}{s_1^{(test)}}&\\frac{x_{22}^{(test)}-\\bar{x}_{.2}^{(test)}}{s_2^{(test)}}&\\cdots&\\frac{x_{213}^{(test)}-\\bar{x}_{.13}^{(test)}}{s_{13}^{(test)}}\\\\\\vdots&\\vdots&\\ddots&\\vdots\\\\\\frac{x_{102,1}^{(test)}-\\bar{x}_{.1}^{(test)}}{s_1^{(test)}}&\\frac{x_{102,2}^{(test)}-\\bar{x}_{.2}^{(test)}}{s_2^{(test)}}&\\cdots&\\frac{x_{102,13}^{(test)}-\\bar{x}_{.13}^{(test)}}{s_{13}^{(test)}}\\end{matrix}\\right)\\tag{12}$$"
   ]
  },
  {
   "cell_type": "code",
   "execution_count": 65,
   "metadata": {},
   "outputs": [],
   "source": [
    "test_data -= mean\n",
    "test_data /= std"
   ]
  },
  {
   "cell_type": "markdown",
   "metadata": {},
   "source": [
    "## Model Building"
   ]
  },
  {
   "cell_type": "markdown",
   "metadata": {},
   "source": [
    "On basic model, have input layer like"
   ]
  },
  {
   "cell_type": "markdown",
   "metadata": {},
   "source": [
    "$$\\mathbf{x} _{1\\times 13}\\tag{13}$$"
   ]
  },
  {
   "cell_type": "markdown",
   "metadata": {},
   "source": [
    "Among total 2 hidden layer, first layer is"
   ]
  },
  {
   "cell_type": "markdown",
   "metadata": {},
   "source": [
    "$$\\mathbf{h}^{(1)}_{1\\times64}=ReLU(\\mathbf{W}^{(1)}_{13\\times64}\\mathbf{x}_{1\\times 13}+\\mathbf{b}^{(1)}_{1\\times64})\\tag{14}$$"
   ]
  },
  {
   "cell_type": "markdown",
   "metadata": {},
   "source": [
    "Second layer is"
   ]
  },
  {
   "cell_type": "markdown",
   "metadata": {},
   "source": [
    "$$\\mathbf{h}^{(2)}_{1\\times64}=ReLU(\\mathbf{h}^{(1)}_{1\\times 64}\\mathbf{W}^{(2)}_{64\\times64}+\\mathbf{b}^{(2)}_{1\\times64})\\tag{15}$$"
   ]
  },
  {
   "cell_type": "markdown",
   "metadata": {},
   "source": [
    "ReLU function can be defined by"
   ]
  },
  {
   "cell_type": "markdown",
   "metadata": {},
   "source": [
    "$$ReLU(x)=max(0, x) \\tag{16}$$"
   ]
  },
  {
   "cell_type": "markdown",
   "metadata": {},
   "source": [
    "Lastly, we can denote output layer as"
   ]
  },
  {
   "cell_type": "markdown",
   "metadata": {},
   "source": [
    "$$\\hat{y}=\\mathbf{h}^{(2)}_{1\\times64}\\mathbf{W}^{(3)}_{64\\times1}+b^{3}\\tag{17}$$"
   ]
  },
  {
   "cell_type": "code",
   "execution_count": null,
   "metadata": {},
   "outputs": [],
   "source": [
    "model = keras.Sequential([\n",
    "        layers.Dense(64, activation=\"relu\"),\n",
    "        layers.Dense(64, activation=\"relu\"),\n",
    "        layers.Dense(1)\n",
    "])"
   ]
  },
  {
   "cell_type": "markdown",
   "metadata": {},
   "source": [
    "Using root mean square propagation(RMSprop) as the optimizer with mean squared error (MSE) as the loss function. During training, use mean absolute error (MAE) as the evaluation metric."
   ]
  },
  {
   "cell_type": "markdown",
   "metadata": {},
   "source": [
    "$$MSE=\\frac{1}{n}\\sum^n_{i=1}(y_i-\\hat{y} _i)^2\\tag{18}$$"
   ]
  },
  {
   "cell_type": "markdown",
   "metadata": {},
   "source": [
    "$$MAE=\\frac{1}{n}\\sum^n_{i=1}|y_i-\\hat{y} _i|\\tag{19}$$"
   ]
  },
  {
   "cell_type": "code",
   "execution_count": 67,
   "metadata": {},
   "outputs": [],
   "source": [
    "model.compile(optimizer=\"rmsprop\", loss=\"mse\", metrics=[\"mae\"])"
   ]
  },
  {
   "cell_type": "markdown",
   "metadata": {},
   "source": [
    "We can make this model building sequence as a function like"
   ]
  },
  {
   "cell_type": "code",
   "execution_count": 68,
   "metadata": {},
   "outputs": [],
   "source": [
    "def build_model():\n",
    "    model = keras.Sequential([\n",
    "        layers.Dense(64, activation=\"relu\"),\n",
    "        layers.Dense(64, activation=\"relu\"),\n",
    "        layers.Dense(1)\n",
    "    ])\n",
    "    model.compile(optimizer=\"rmsprop\", loss=\"mse\", metrics=[\"mae\"])\n",
    "    return model"
   ]
  },
  {
   "cell_type": "markdown",
   "metadata": {},
   "source": [
    "## $k$-fold Cross Validation"
   ]
  },
  {
   "cell_type": "markdown",
   "metadata": {},
   "source": [
    "We can make algorithm for $k$-fold cross valiation and recording scores like"
   ]
  },
  {
   "cell_type": "markdown",
   "metadata": {},
   "source": [
    "<hr style=\"width: 100%; margin-left: 0; margin-bottom: 0px; border: 0.5px solid black;\">\n",
    "<strong>Algorithm</strong> k-fold\n",
    "<hr style=\"width: 100%; margin-left: 0; margin-top: 0px; margin-bottom: 0px; border: 0.5px solid black;\">\n",
    "<strong>Input</strong> $404\\times 13$ 2-dimensional matrix $\\mathbf{X}_{train}$, $404\\times1$ vector $\\mathbf{y}_{train}$, Number of folds $k=4$, number of epochs $E=100$<br>\n",
    "&emsp; <strong>Let</strong> all_score ← empty list<br>\n",
    "&emsp; <strong>Let</strong> $n_{fold}$ ← $404/4=101$\n",
    "&emsp; <strong>for</strong> $i=0$ <strong>to</strong> $3$ <strong>do</strong><br>\n",
    "\n",
    "&emsp;&emsp; <strong>Let</strong> $\\mathbf{X}_{101\\times13}^{(val)}$ ← rows [$in_{fold}:(i+1)n_{fold}$ of $\\mathbf{X}^{(train)}_{404\\times13}$]<br>\n",
    "&emsp;&emsp; <strong>Let</strong> $\\mathbf{y}_{101\\times1}^{(val)}$ ← corresponding rows of $\\mathbf{y}_{train}$<br>\n",
    "\n",
    "&emsp;&emsp; <strong>Let</strong> $\\mathbf{X}_{303\\times13}^{(partial)}$ ← rows of $\\mathbf{X}_{404\\times13}^{(train)}$ excluding fold $i$<br>\n",
    "&emsp;&emsp; <strong>Let</strong> $\\mathbf{y}_{303\\times1}^{(partial)}$ ← corresponding rows of $\\mathbf{y}_{train}$<br>\n",
    "\n",
    "&emsp;&emsp; <strong>Let</strong> model ← build(model)<br>\n",
    "&emsp;&emsp; <strong>Train</strong>  model on $(\\mathbf{X}_{303\\times13}^{(partial)}$, $\\mathbf{y}_{303\\times1}^{(partial)})$ for $E$ epochs using RMSprop + MSE<br>\n",
    "\n",
    "&emsp;&emsp; <strong>Let</strong> $MAE_i$ ← evaluate model on $(\\mathbf{X}_{101\\times13}^{(partial)}$, $\\mathbf{y}_{101\\times1}^{(partial)})$<br>\n",
    "&emsp;&emsp; <strong>Append</strong> $MAE_i$ <strong>to</strong> all_scores<br>\n",
    "\n",
    "<strong>Output</strong> all_scores\n",
    "<hr style=\"width: 100%; margin-left: 0; margin-top: 0px; border: 0.5px solid black;\">"
   ]
  },
  {
   "cell_type": "code",
   "execution_count": 69,
   "metadata": {},
   "outputs": [
    {
     "name": "stdout",
     "output_type": "stream",
     "text": [
      "Processing fold #0\n",
      "Processing fold #1\n",
      "Processing fold #2\n",
      "Processing fold #3\n"
     ]
    }
   ],
   "source": [
    "k = 4\n",
    "num_val_samples = len(train_data) // k\n",
    "num_epochs = 100\n",
    "all_scores = []\n",
    "for i in range(k):\n",
    "    print(f\"Processing fold #{i}\")\n",
    "    val_data = train_data[i * num_val_samples: (i + 1) * num_val_samples]\n",
    "    val_targets = train_targets[i * num_val_samples: (i + 1) * num_val_samples]\n",
    "    partial_train_data = np.concatenate(\n",
    "        [train_data[:i * num_val_samples],\n",
    "         train_data[(i + 1) * num_val_samples:]],\n",
    "        axis=0)\n",
    "    partial_train_targets = np.concatenate(\n",
    "        [train_targets[:i * num_val_samples],\n",
    "         train_targets[(i + 1) * num_val_samples:]],\n",
    "        axis=0)\n",
    "    model = build_model()\n",
    "    model.fit(partial_train_data, partial_train_targets,\n",
    "              epochs=num_epochs, batch_size=16, verbose=0)\n",
    "    val_mse, val_mae = model.evaluate(val_data, val_targets, verbose=0)\n",
    "    all_scores.append(val_mae)"
   ]
  },
  {
   "cell_type": "markdown",
   "metadata": {},
   "source": [
    "## Load data"
   ]
  },
  {
   "cell_type": "markdown",
   "metadata": {},
   "source": [
    "Load MNIST data"
   ]
  },
  {
   "cell_type": "code",
   "execution_count": 10,
   "metadata": {},
   "outputs": [],
   "source": [
    "(train_images, train_labels), _ = mnist.load_data()"
   ]
  },
  {
   "cell_type": "markdown",
   "metadata": {},
   "source": [
    "Transform $28\\times28$ matrix into $784\\times1$ vector"
   ]
  },
  {
   "cell_type": "code",
   "execution_count": 11,
   "metadata": {},
   "outputs": [],
   "source": [
    "train_images = train_images.reshape((60000, 28 * 28))"
   ]
  },
  {
   "cell_type": "markdown",
   "metadata": {},
   "source": [
    "For faster training, normalize each pixel value (0–255) to the 0–1"
   ]
  },
  {
   "cell_type": "code",
   "execution_count": 12,
   "metadata": {},
   "outputs": [],
   "source": [
    "train_images = train_images.astype(\"float32\") / 255"
   ]
  },
  {
   "cell_type": "code",
   "execution_count": 49,
   "metadata": {},
   "outputs": [
    {
     "data": {
      "image/png": "[encoded data removed]",
      "text/plain": [
       "<Figure size 640x480 with 1 Axes>"
      ]
     },
     "metadata": {},
     "output_type": "display_data"
    }
   ],
   "source": [
    "plt.imshow(train_images[0].reshape(28, 28), cmap='gray')\n",
    "plt.axis('off')\n",
    "plt.show()"
   ]
  },
  {
   "cell_type": "markdown",
   "metadata": {},
   "source": [
    "Add white-noise channel to MNIST data"
   ]
  },
  {
   "cell_type": "code",
   "execution_count": 13,
   "metadata": {},
   "outputs": [],
   "source": [
    "train_images_with_noise_channels = np.concatenate(\n",
    "    [train_images, np.random.random((len(train_images), 784))], axis=1)"
   ]
  },
  {
   "cell_type": "markdown",
   "metadata": {},
   "source": [
    "We can see that the random noise image was added after the orginal image"
   ]
  },
  {
   "cell_type": "code",
   "execution_count": 56,
   "metadata": {},
   "outputs": [
    {
     "data": {
      "image/png": "[encoded data removed]",
      "text/plain": [
       "<Figure size 640x480 with 1 Axes>"
      ]
     },
     "metadata": {},
     "output_type": "display_data"
    }
   ],
   "source": [
    "plt.imshow(train_images_with_noise_channels[0].reshape(56, 28), cmap='gray')\n",
    "plt.axis('off')\n",
    "plt.show()"
   ]
  },
  {
   "cell_type": "markdown",
   "metadata": {},
   "source": [
    "Add all-zero channel to MNIST data, added feature that affect to the data"
   ]
  },
  {
   "cell_type": "markdown",
   "metadata": {},
   "source": [
    "Add all-zero channel to MNIST data, added feature don't much effect on raw data"
   ]
  },
  {
   "cell_type": "code",
   "execution_count": 14,
   "metadata": {},
   "outputs": [],
   "source": [
    "train_images_with_zeros_channels = np.concatenate(\n",
    "    [train_images, np.zeros((len(train_images), 784))], axis=1)"
   ]
  },
  {
   "cell_type": "markdown",
   "metadata": {},
   "source": [
    "We can see that the all-zero(black) image was added after the orginal image"
   ]
  },
  {
   "cell_type": "code",
   "execution_count": 37,
   "metadata": {},
   "outputs": [
    {
     "data": {
      "image/png": "[encoded data removed]",
      "text/plain": [
       "<Figure size 640x480 with 1 Axes>"
      ]
     },
     "metadata": {},
     "output_type": "display_data"
    }
   ],
   "source": [
    "plt.imshow(train_images_with_zeros_channels[0].reshape(56, 28), cmap='gray')\n",
    "plt.axis('off')\n",
    "plt.show()"
   ]
  },
  {
   "cell_type": "markdown",
   "metadata": {},
   "source": [
    "Make model with 1 hidden layer"
   ]
  },
  {
   "cell_type": "code",
   "execution_count": 15,
   "metadata": {},
   "outputs": [],
   "source": [
    "def get_model():\n",
    "    model = keras.Sequential([\n",
    "        layers.Dense(512, activation=\"relu\"),\n",
    "        layers.Dense(10, activation=\"softmax\")\n",
    "    ])\n",
    "    model.compile(optimizer=\"rmsprop\",\n",
    "                  loss=\"sparse_categorical_crossentropy\",\n",
    "                  metrics=[\"accuracy\"])\n",
    "    return model"
   ]
  },
  {
   "cell_type": "code",
   "execution_count": 16,
   "metadata": {},
   "outputs": [
    {
     "name": "stdout",
     "output_type": "stream",
     "text": [
      "Epoch 1/10\n",
      "\u001b[1m375/375\u001b[0m \u001b[32m━━━━━━━━━━━━━━━━━━━━\u001b[0m\u001b[37m\u001b[0m \u001b[1m7s\u001b[0m 15ms/step - accuracy: 0.6977 - loss: 1.0414 - val_accuracy: 0.8960 - val_loss: 0.3394\n",
      "Epoch 2/10\n",
      "\u001b[1m375/375\u001b[0m \u001b[32m━━━━━━━━━━━━━━━━━━━━\u001b[0m\u001b[37m\u001b[0m \u001b[1m5s\u001b[0m 14ms/step - accuracy: 0.9121 - loss: 0.2846 - val_accuracy: 0.9427 - val_loss: 0.1963\n",
      "Epoch 3/10\n",
      "\u001b[1m375/375\u001b[0m \u001b[32m━━━━━━━━━━━━━━━━━━━━\u001b[0m\u001b[37m\u001b[0m \u001b[1m6s\u001b[0m 15ms/step - accuracy: 0.9441 - loss: 0.1750 - val_accuracy: 0.9497 - val_loss: 0.1600\n",
      "Epoch 4/10\n",
      "\u001b[1m375/375\u001b[0m \u001b[32m━━━━━━━━━━━━━━━━━━━━\u001b[0m\u001b[37m\u001b[0m \u001b[1m6s\u001b[0m 15ms/step - accuracy: 0.9619 - loss: 0.1257 - val_accuracy: 0.9484 - val_loss: 0.1612\n",
      "Epoch 5/10\n",
      "\u001b[1m375/375\u001b[0m \u001b[32m━━━━━━━━━━━━━━━━━━━━\u001b[0m\u001b[37m\u001b[0m \u001b[1m5s\u001b[0m 14ms/step - accuracy: 0.9719 - loss: 0.0893 - val_accuracy: 0.9570 - val_loss: 0.1456\n",
      "Epoch 6/10\n",
      "\u001b[1m375/375\u001b[0m \u001b[32m━━━━━━━━━━━━━━━━━━━━\u001b[0m\u001b[37m\u001b[0m \u001b[1m5s\u001b[0m 14ms/step - accuracy: 0.9794 - loss: 0.0670 - val_accuracy: 0.9647 - val_loss: 0.1272\n",
      "Epoch 7/10\n",
      "\u001b[1m375/375\u001b[0m \u001b[32m━━━━━━━━━━━━━━━━━━━━\u001b[0m\u001b[37m\u001b[0m \u001b[1m5s\u001b[0m 14ms/step - accuracy: 0.9856 - loss: 0.0458 - val_accuracy: 0.9622 - val_loss: 0.1334\n",
      "Epoch 8/10\n",
      "\u001b[1m375/375\u001b[0m \u001b[32m━━━━━━━━━━━━━━━━━━━━\u001b[0m\u001b[37m\u001b[0m \u001b[1m5s\u001b[0m 13ms/step - accuracy: 0.9903 - loss: 0.0323 - val_accuracy: 0.9667 - val_loss: 0.1197\n",
      "Epoch 9/10\n",
      "\u001b[1m375/375\u001b[0m \u001b[32m━━━━━━━━━━━━━━━━━━━━\u001b[0m\u001b[37m\u001b[0m \u001b[1m5s\u001b[0m 15ms/step - accuracy: 0.9931 - loss: 0.0244 - val_accuracy: 0.9668 - val_loss: 0.1264\n",
      "Epoch 10/10\n",
      "\u001b[1m375/375\u001b[0m \u001b[32m━━━━━━━━━━━━━━━━━━━━\u001b[0m\u001b[37m\u001b[0m \u001b[1m5s\u001b[0m 13ms/step - accuracy: 0.9941 - loss: 0.0201 - val_accuracy: 0.9686 - val_loss: 0.1213\n"
     ]
    }
   ],
   "source": [
    "model = get_model()\n",
    "history_noise = model.fit(\n",
    "    train_images_with_noise_channels, train_labels,\n",
    "    epochs=10,\n",
    "    batch_size=128,\n",
    "    validation_split=0.2)"
   ]
  },
  {
   "cell_type": "code",
   "execution_count": 17,
   "metadata": {},
   "outputs": [
    {
     "name": "stdout",
     "output_type": "stream",
     "text": [
      "Epoch 1/10\n",
      "\u001b[1m375/375\u001b[0m \u001b[32m━━━━━━━━━━━━━━━━━━━━\u001b[0m\u001b[37m\u001b[0m \u001b[1m7s\u001b[0m 15ms/step - accuracy: 0.8583 - loss: 0.4905 - val_accuracy: 0.9588 - val_loss: 0.1500\n",
      "Epoch 2/10\n",
      "\u001b[1m375/375\u001b[0m \u001b[32m━━━━━━━━━━━━━━━━━━━━\u001b[0m\u001b[37m\u001b[0m \u001b[1m5s\u001b[0m 13ms/step - accuracy: 0.9632 - loss: 0.1253 - val_accuracy: 0.9672 - val_loss: 0.1133\n",
      "Epoch 3/10\n",
      "\u001b[1m375/375\u001b[0m \u001b[32m━━━━━━━━━━━━━━━━━━━━\u001b[0m\u001b[37m\u001b[0m \u001b[1m5s\u001b[0m 13ms/step - accuracy: 0.9762 - loss: 0.0842 - val_accuracy: 0.9751 - val_loss: 0.0855\n",
      "Epoch 4/10\n",
      "\u001b[1m375/375\u001b[0m \u001b[32m━━━━━━━━━━━━━━━━━━━━\u001b[0m\u001b[37m\u001b[0m \u001b[1m4s\u001b[0m 12ms/step - accuracy: 0.9824 - loss: 0.0593 - val_accuracy: 0.9748 - val_loss: 0.0848\n",
      "Epoch 5/10\n",
      "\u001b[1m375/375\u001b[0m \u001b[32m━━━━━━━━━━━━━━━━━━━━\u001b[0m\u001b[37m\u001b[0m \u001b[1m5s\u001b[0m 13ms/step - accuracy: 0.9877 - loss: 0.0426 - val_accuracy: 0.9767 - val_loss: 0.0774\n",
      "Epoch 6/10\n",
      "\u001b[1m375/375\u001b[0m \u001b[32m━━━━━━━━━━━━━━━━━━━━\u001b[0m\u001b[37m\u001b[0m \u001b[1m5s\u001b[0m 13ms/step - accuracy: 0.9914 - loss: 0.0317 - val_accuracy: 0.9764 - val_loss: 0.0813\n",
      "Epoch 7/10\n",
      "\u001b[1m375/375\u001b[0m \u001b[32m━━━━━━━━━━━━━━━━━━━━\u001b[0m\u001b[37m\u001b[0m \u001b[1m7s\u001b[0m 18ms/step - accuracy: 0.9943 - loss: 0.0225 - val_accuracy: 0.9785 - val_loss: 0.0752\n",
      "Epoch 8/10\n",
      "\u001b[1m375/375\u001b[0m \u001b[32m━━━━━━━━━━━━━━━━━━━━\u001b[0m\u001b[37m\u001b[0m \u001b[1m7s\u001b[0m 18ms/step - accuracy: 0.9958 - loss: 0.0169 - val_accuracy: 0.9789 - val_loss: 0.0777\n",
      "Epoch 9/10\n",
      "\u001b[1m375/375\u001b[0m \u001b[32m━━━━━━━━━━━━━━━━━━━━\u001b[0m\u001b[37m\u001b[0m \u001b[1m7s\u001b[0m 17ms/step - accuracy: 0.9968 - loss: 0.0129 - val_accuracy: 0.9798 - val_loss: 0.0740\n",
      "Epoch 10/10\n",
      "\u001b[1m375/375\u001b[0m \u001b[32m━━━━━━━━━━━━━━━━━━━━\u001b[0m\u001b[37m\u001b[0m \u001b[1m7s\u001b[0m 18ms/step - accuracy: 0.9977 - loss: 0.0096 - val_accuracy: 0.9783 - val_loss: 0.0832\n"
     ]
    }
   ],
   "source": [
    "model = get_model()\n",
    "history_zeros = model.fit(\n",
    "    train_images_with_zeros_channels, train_labels,\n",
    "    epochs=10,\n",
    "    batch_size=128,\n",
    "    validation_split=0.2)"
   ]
  },
  {
   "cell_type": "markdown",
   "metadata": {},
   "source": [
    "Model with noise has low accuracy "
   ]
  },
  {
   "cell_type": "code",
   "execution_count": 19,
   "metadata": {},
   "outputs": [
    {
     "data": {
      "text/plain": [
       "<matplotlib.legend.Legend at 0x14f04cc8f50>"
      ]
     },
     "execution_count": 19,
     "metadata": {},
     "output_type": "execute_result"
    },
    {
     "data": {
      "image/png": "[encoded data removed]",
      "text/plain": [
       "<Figure size 640x480 with 1 Axes>"
      ]
     },
     "metadata": {},
     "output_type": "display_data"
    }
   ],
   "source": [
    "import matplotlib.pyplot as plt\n",
    "val_acc_noise = history_noise.history[\"val_accuracy\"]\n",
    "val_acc_zeros = history_zeros.history[\"val_accuracy\"]\n",
    "epochs = range(1, 11)\n",
    "plt.plot(epochs, val_acc_noise, \"b-\",\n",
    "         label=\"Validation accuracy with noise channels\")\n",
    "plt.plot(epochs, val_acc_zeros, \"b--\",\n",
    "         label=\"Validation accuracy with zeros channels\")\n",
    "plt.title(\"Effect of noise channels on validation accuracy\")\n",
    "plt.xlabel(\"Epochs\")\n",
    "plt.ylabel(\"Accuracy\")\n",
    "plt.legend()"
   ]
  },
  {
   "cell_type": "code",
   "execution_count": 20,
   "metadata": {},
   "outputs": [],
   "source": [
    "(train_images, train_labels), _ = mnist.load_data()\n",
    "train_images = train_images.reshape((60000, 28 * 28))\n",
    "train_images = train_images.astype(\"float32\") / 255"
   ]
  },
  {
   "cell_type": "markdown",
   "metadata": {},
   "source": [
    "Make random suffled data to check if the model memorize the data"
   ]
  },
  {
   "cell_type": "code",
   "execution_count": 21,
   "metadata": {},
   "outputs": [],
   "source": [
    "random_train_labels = train_labels[:]\n",
    "np.random.shuffle(random_train_labels)"
   ]
  },
  {
   "cell_type": "code",
   "execution_count": null,
   "metadata": {},
   "outputs": [],
   "source": [
    "model = keras.Sequential([\n",
    "    layers.Dense(512, activation=\"relu\"),\n",
    "    layers.Dense(10, activation=\"softmax\")\n",
    "])"
   ]
  },
  {
   "cell_type": "code",
   "execution_count": 22,
   "metadata": {},
   "outputs": [],
   "source": [
    "model.compile(optimizer=\"rmsprop\",\n",
    "              loss=\"sparse_categorical_crossentropy\",\n",
    "              metrics=[\"accuracy\"])"
   ]
  },
  {
   "cell_type": "markdown",
   "metadata": {},
   "source": [
    "validation accuracy don't increase, validation loss increase, poor performance"
   ]
  },
  {
   "cell_type": "code",
   "execution_count": 23,
   "metadata": {},
   "outputs": [
    {
     "name": "stdout",
     "output_type": "stream",
     "text": [
      "Epoch 1/100\n",
      "\u001b[1m375/375\u001b[0m \u001b[32m━━━━━━━━━━━━━━━━━━━━\u001b[0m\u001b[37m\u001b[0m \u001b[1m6s\u001b[0m 13ms/step - accuracy: 0.1054 - loss: 2.3254 - val_accuracy: 0.1101 - val_loss: 2.3074\n",
      "Epoch 2/100\n",
      "\u001b[1m375/375\u001b[0m \u001b[32m━━━━━━━━━━━━━━━━━━━━\u001b[0m\u001b[37m\u001b[0m \u001b[1m5s\u001b[0m 13ms/step - accuracy: 0.1205 - loss: 2.2972 - val_accuracy: 0.1013 - val_loss: 2.3111\n",
      "Epoch 3/100\n",
      "\u001b[1m375/375\u001b[0m \u001b[32m━━━━━━━━━━━━━━━━━━━━\u001b[0m\u001b[37m\u001b[0m \u001b[1m5s\u001b[0m 13ms/step - accuracy: 0.1279 - loss: 2.2881 - val_accuracy: 0.1088 - val_loss: 2.3160\n",
      "Epoch 4/100\n",
      "\u001b[1m375/375\u001b[0m \u001b[32m━━━━━━━━━━━━━━━━━━━━\u001b[0m\u001b[37m\u001b[0m \u001b[1m5s\u001b[0m 13ms/step - accuracy: 0.1447 - loss: 2.2734 - val_accuracy: 0.1036 - val_loss: 2.3300\n",
      "Epoch 5/100\n",
      "\u001b[1m375/375\u001b[0m \u001b[32m━━━━━━━━━━━━━━━━━━━━\u001b[0m\u001b[37m\u001b[0m \u001b[1m5s\u001b[0m 13ms/step - accuracy: 0.1543 - loss: 2.2594 - val_accuracy: 0.1033 - val_loss: 2.3321\n",
      "Epoch 6/100\n",
      "\u001b[1m375/375\u001b[0m \u001b[32m━━━━━━━━━━━━━━━━━━━━\u001b[0m\u001b[37m\u001b[0m \u001b[1m5s\u001b[0m 13ms/step - accuracy: 0.1667 - loss: 2.2392 - val_accuracy: 0.1045 - val_loss: 2.3422\n",
      "Epoch 7/100\n",
      "\u001b[1m375/375\u001b[0m \u001b[32m━━━━━━━━━━━━━━━━━━━━\u001b[0m\u001b[37m\u001b[0m \u001b[1m5s\u001b[0m 13ms/step - accuracy: 0.1824 - loss: 2.2143 - val_accuracy: 0.1067 - val_loss: 2.3542\n",
      "Epoch 8/100\n",
      "\u001b[1m375/375\u001b[0m \u001b[32m━━━━━━━━━━━━━━━━━━━━\u001b[0m\u001b[37m\u001b[0m \u001b[1m5s\u001b[0m 13ms/step - accuracy: 0.1999 - loss: 2.1880 - val_accuracy: 0.1081 - val_loss: 2.3702\n",
      "Epoch 9/100\n",
      "\u001b[1m375/375\u001b[0m \u001b[32m━━━━━━━━━━━━━━━━━━━━\u001b[0m\u001b[37m\u001b[0m \u001b[1m5s\u001b[0m 13ms/step - accuracy: 0.2170 - loss: 2.1568 - val_accuracy: 0.1048 - val_loss: 2.4032\n",
      "Epoch 10/100\n",
      "\u001b[1m375/375\u001b[0m \u001b[32m━━━━━━━━━━━━━━━━━━━━\u001b[0m\u001b[37m\u001b[0m \u001b[1m5s\u001b[0m 13ms/step - accuracy: 0.2386 - loss: 2.1195 - val_accuracy: 0.1007 - val_loss: 2.4091\n",
      "Epoch 11/100\n",
      "\u001b[1m375/375\u001b[0m \u001b[32m━━━━━━━━━━━━━━━━━━━━\u001b[0m\u001b[37m\u001b[0m \u001b[1m5s\u001b[0m 14ms/step - accuracy: 0.2509 - loss: 2.0879 - val_accuracy: 0.1046 - val_loss: 2.4433\n",
      "Epoch 12/100\n",
      "\u001b[1m375/375\u001b[0m \u001b[32m━━━━━━━━━━━━━━━━━━━━\u001b[0m\u001b[37m\u001b[0m \u001b[1m5s\u001b[0m 13ms/step - accuracy: 0.2737 - loss: 2.0498 - val_accuracy: 0.1042 - val_loss: 2.4644\n",
      "Epoch 13/100\n",
      "\u001b[1m375/375\u001b[0m \u001b[32m━━━━━━━━━━━━━━━━━━━━\u001b[0m\u001b[37m\u001b[0m \u001b[1m5s\u001b[0m 13ms/step - accuracy: 0.2891 - loss: 2.0125 - val_accuracy: 0.1056 - val_loss: 2.4945\n",
      "Epoch 14/100\n",
      "\u001b[1m375/375\u001b[0m \u001b[32m━━━━━━━━━━━━━━━━━━━━\u001b[0m\u001b[37m\u001b[0m \u001b[1m5s\u001b[0m 13ms/step - accuracy: 0.3079 - loss: 1.9652 - val_accuracy: 0.1018 - val_loss: 2.5236\n",
      "Epoch 15/100\n",
      "\u001b[1m375/375\u001b[0m \u001b[32m━━━━━━━━━━━━━━━━━━━━\u001b[0m\u001b[37m\u001b[0m \u001b[1m5s\u001b[0m 13ms/step - accuracy: 0.3264 - loss: 1.9260 - val_accuracy: 0.1065 - val_loss: 2.5448\n",
      "Epoch 16/100\n",
      "\u001b[1m375/375\u001b[0m \u001b[32m━━━━━━━━━━━━━━━━━━━━\u001b[0m\u001b[37m\u001b[0m \u001b[1m5s\u001b[0m 12ms/step - accuracy: 0.3440 - loss: 1.8855 - val_accuracy: 0.1011 - val_loss: 2.5831\n",
      "Epoch 17/100\n",
      "\u001b[1m375/375\u001b[0m \u001b[32m━━━━━━━━━━━━━━━━━━━━\u001b[0m\u001b[37m\u001b[0m \u001b[1m4s\u001b[0m 12ms/step - accuracy: 0.3549 - loss: 1.8503 - val_accuracy: 0.1099 - val_loss: 2.6108\n",
      "Epoch 18/100\n",
      "\u001b[1m375/375\u001b[0m \u001b[32m━━━━━━━━━━━━━━━━━━━━\u001b[0m\u001b[37m\u001b[0m \u001b[1m5s\u001b[0m 12ms/step - accuracy: 0.3744 - loss: 1.8072 - val_accuracy: 0.1043 - val_loss: 2.6632\n",
      "Epoch 19/100\n",
      "\u001b[1m375/375\u001b[0m \u001b[32m━━━━━━━━━━━━━━━━━━━━\u001b[0m\u001b[37m\u001b[0m \u001b[1m5s\u001b[0m 12ms/step - accuracy: 0.3942 - loss: 1.7650 - val_accuracy: 0.1044 - val_loss: 2.7046\n",
      "Epoch 20/100\n",
      "\u001b[1m375/375\u001b[0m \u001b[32m━━━━━━━━━━━━━━━━━━━━\u001b[0m\u001b[37m\u001b[0m \u001b[1m5s\u001b[0m 12ms/step - accuracy: 0.4066 - loss: 1.7258 - val_accuracy: 0.1052 - val_loss: 2.7286\n",
      "Epoch 21/100\n",
      "\u001b[1m375/375\u001b[0m \u001b[32m━━━━━━━━━━━━━━━━━━━━\u001b[0m\u001b[37m\u001b[0m \u001b[1m6s\u001b[0m 13ms/step - accuracy: 0.4190 - loss: 1.6836 - val_accuracy: 0.1081 - val_loss: 2.7717\n",
      "Epoch 22/100\n",
      "\u001b[1m375/375\u001b[0m \u001b[32m━━━━━━━━━━━━━━━━━━━━\u001b[0m\u001b[37m\u001b[0m \u001b[1m5s\u001b[0m 12ms/step - accuracy: 0.4319 - loss: 1.6512 - val_accuracy: 0.1056 - val_loss: 2.8170\n",
      "Epoch 23/100\n",
      "\u001b[1m375/375\u001b[0m \u001b[32m━━━━━━━━━━━━━━━━━━━━\u001b[0m\u001b[37m\u001b[0m \u001b[1m5s\u001b[0m 13ms/step - accuracy: 0.4530 - loss: 1.6084 - val_accuracy: 0.1030 - val_loss: 2.8824\n",
      "Epoch 24/100\n",
      "\u001b[1m375/375\u001b[0m \u001b[32m━━━━━━━━━━━━━━━━━━━━\u001b[0m\u001b[37m\u001b[0m \u001b[1m5s\u001b[0m 13ms/step - accuracy: 0.4664 - loss: 1.5680 - val_accuracy: 0.1028 - val_loss: 2.9168\n",
      "Epoch 25/100\n",
      "\u001b[1m375/375\u001b[0m \u001b[32m━━━━━━━━━━━━━━━━━━━━\u001b[0m\u001b[37m\u001b[0m \u001b[1m4s\u001b[0m 12ms/step - accuracy: 0.4767 - loss: 1.5369 - val_accuracy: 0.1028 - val_loss: 2.9510\n",
      "Epoch 26/100\n",
      "\u001b[1m375/375\u001b[0m \u001b[32m━━━━━━━━━━━━━━━━━━━━\u001b[0m\u001b[37m\u001b[0m \u001b[1m5s\u001b[0m 12ms/step - accuracy: 0.4952 - loss: 1.4994 - val_accuracy: 0.1041 - val_loss: 3.0041\n",
      "Epoch 27/100\n",
      "\u001b[1m375/375\u001b[0m \u001b[32m━━━━━━━━━━━━━━━━━━━━\u001b[0m\u001b[37m\u001b[0m \u001b[1m4s\u001b[0m 11ms/step - accuracy: 0.5078 - loss: 1.4595 - val_accuracy: 0.1044 - val_loss: 3.0334\n",
      "Epoch 28/100\n",
      "\u001b[1m375/375\u001b[0m \u001b[32m━━━━━━━━━━━━━━━━━━━━\u001b[0m\u001b[37m\u001b[0m \u001b[1m4s\u001b[0m 12ms/step - accuracy: 0.5187 - loss: 1.4227 - val_accuracy: 0.1033 - val_loss: 3.0856\n",
      "Epoch 29/100\n",
      "\u001b[1m375/375\u001b[0m \u001b[32m━━━━━━━━━━━━━━━━━━━━\u001b[0m\u001b[37m\u001b[0m \u001b[1m5s\u001b[0m 12ms/step - accuracy: 0.5318 - loss: 1.3953 - val_accuracy: 0.1036 - val_loss: 3.1648\n",
      "Epoch 30/100\n",
      "\u001b[1m375/375\u001b[0m \u001b[32m━━━━━━━━━━━━━━━━━━━━\u001b[0m\u001b[37m\u001b[0m \u001b[1m4s\u001b[0m 11ms/step - accuracy: 0.5361 - loss: 1.3733 - val_accuracy: 0.1053 - val_loss: 3.2030\n",
      "Epoch 31/100\n",
      "\u001b[1m375/375\u001b[0m \u001b[32m━━━━━━━━━━━━━━━━━━━━\u001b[0m\u001b[37m\u001b[0m \u001b[1m4s\u001b[0m 11ms/step - accuracy: 0.5540 - loss: 1.3321 - val_accuracy: 0.1075 - val_loss: 3.2513\n",
      "Epoch 32/100\n",
      "\u001b[1m375/375\u001b[0m \u001b[32m━━━━━━━━━━━━━━━━━━━━\u001b[0m\u001b[37m\u001b[0m \u001b[1m5s\u001b[0m 13ms/step - accuracy: 0.5612 - loss: 1.3011 - val_accuracy: 0.1049 - val_loss: 3.3072\n",
      "Epoch 33/100\n",
      "\u001b[1m375/375\u001b[0m \u001b[32m━━━━━━━━━━━━━━━━━━━━\u001b[0m\u001b[37m\u001b[0m \u001b[1m4s\u001b[0m 12ms/step - accuracy: 0.5767 - loss: 1.2749 - val_accuracy: 0.1054 - val_loss: 3.3832\n",
      "Epoch 34/100\n",
      "\u001b[1m375/375\u001b[0m \u001b[32m━━━━━━━━━━━━━━━━━━━━\u001b[0m\u001b[37m\u001b[0m \u001b[1m5s\u001b[0m 14ms/step - accuracy: 0.5804 - loss: 1.2480 - val_accuracy: 0.1038 - val_loss: 3.4170\n",
      "Epoch 35/100\n",
      "\u001b[1m375/375\u001b[0m \u001b[32m━━━━━━━━━━━━━━━━━━━━\u001b[0m\u001b[37m\u001b[0m \u001b[1m5s\u001b[0m 13ms/step - accuracy: 0.5924 - loss: 1.2177 - val_accuracy: 0.1065 - val_loss: 3.4417\n",
      "Epoch 36/100\n",
      "\u001b[1m375/375\u001b[0m \u001b[32m━━━━━━━━━━━━━━━━━━━━\u001b[0m\u001b[37m\u001b[0m \u001b[1m5s\u001b[0m 12ms/step - accuracy: 0.6038 - loss: 1.1885 - val_accuracy: 0.1032 - val_loss: 3.5151\n",
      "Epoch 37/100\n",
      "\u001b[1m375/375\u001b[0m \u001b[32m━━━━━━━━━━━━━━━━━━━━\u001b[0m\u001b[37m\u001b[0m \u001b[1m5s\u001b[0m 13ms/step - accuracy: 0.6162 - loss: 1.1580 - val_accuracy: 0.1057 - val_loss: 3.5696\n",
      "Epoch 38/100\n",
      "\u001b[1m375/375\u001b[0m \u001b[32m━━━━━━━━━━━━━━━━━━━━\u001b[0m\u001b[37m\u001b[0m \u001b[1m5s\u001b[0m 12ms/step - accuracy: 0.6250 - loss: 1.1419 - val_accuracy: 0.1047 - val_loss: 3.6265\n",
      "Epoch 39/100\n",
      "\u001b[1m375/375\u001b[0m \u001b[32m━━━━━━━━━━━━━━━━━━━━\u001b[0m\u001b[37m\u001b[0m \u001b[1m5s\u001b[0m 12ms/step - accuracy: 0.6309 - loss: 1.1126 - val_accuracy: 0.1041 - val_loss: 3.6817\n",
      "Epoch 40/100\n",
      "\u001b[1m375/375\u001b[0m \u001b[32m━━━━━━━━━━━━━━━━━━━━\u001b[0m\u001b[37m\u001b[0m \u001b[1m4s\u001b[0m 12ms/step - accuracy: 0.6409 - loss: 1.0844 - val_accuracy: 0.1037 - val_loss: 3.7374\n",
      "Epoch 41/100\n",
      "\u001b[1m375/375\u001b[0m \u001b[32m━━━━━━━━━━━━━━━━━━━━\u001b[0m\u001b[37m\u001b[0m \u001b[1m4s\u001b[0m 12ms/step - accuracy: 0.6496 - loss: 1.0764 - val_accuracy: 0.1042 - val_loss: 3.7958\n",
      "Epoch 42/100\n",
      "\u001b[1m375/375\u001b[0m \u001b[32m━━━━━━━━━━━━━━━━━━━━\u001b[0m\u001b[37m\u001b[0m \u001b[1m5s\u001b[0m 12ms/step - accuracy: 0.6579 - loss: 1.0404 - val_accuracy: 0.1027 - val_loss: 3.8673\n",
      "Epoch 43/100\n",
      "\u001b[1m375/375\u001b[0m \u001b[32m━━━━━━━━━━━━━━━━━━━━\u001b[0m\u001b[37m\u001b[0m \u001b[1m5s\u001b[0m 13ms/step - accuracy: 0.6624 - loss: 1.0217 - val_accuracy: 0.1012 - val_loss: 3.9008\n",
      "Epoch 44/100\n",
      "\u001b[1m375/375\u001b[0m \u001b[32m━━━━━━━━━━━━━━━━━━━━\u001b[0m\u001b[37m\u001b[0m \u001b[1m5s\u001b[0m 12ms/step - accuracy: 0.6700 - loss: 1.0015 - val_accuracy: 0.1026 - val_loss: 3.9687\n",
      "Epoch 45/100\n",
      "\u001b[1m375/375\u001b[0m \u001b[32m━━━━━━━━━━━━━━━━━━━━\u001b[0m\u001b[37m\u001b[0m \u001b[1m5s\u001b[0m 12ms/step - accuracy: 0.6767 - loss: 0.9873 - val_accuracy: 0.1053 - val_loss: 4.0378\n",
      "Epoch 46/100\n",
      "\u001b[1m375/375\u001b[0m \u001b[32m━━━━━━━━━━━━━━━━━━━━\u001b[0m\u001b[37m\u001b[0m \u001b[1m4s\u001b[0m 12ms/step - accuracy: 0.6885 - loss: 0.9563 - val_accuracy: 0.1036 - val_loss: 4.1203\n",
      "Epoch 47/100\n",
      "\u001b[1m375/375\u001b[0m \u001b[32m━━━━━━━━━━━━━━━━━━━━\u001b[0m\u001b[37m\u001b[0m \u001b[1m5s\u001b[0m 13ms/step - accuracy: 0.6964 - loss: 0.9336 - val_accuracy: 0.1060 - val_loss: 4.1399\n",
      "Epoch 48/100\n",
      "\u001b[1m375/375\u001b[0m \u001b[32m━━━━━━━━━━━━━━━━━━━━\u001b[0m\u001b[37m\u001b[0m \u001b[1m5s\u001b[0m 12ms/step - accuracy: 0.7010 - loss: 0.9196 - val_accuracy: 0.1007 - val_loss: 4.2379\n",
      "Epoch 49/100\n",
      "\u001b[1m375/375\u001b[0m \u001b[32m━━━━━━━━━━━━━━━━━━━━\u001b[0m\u001b[37m\u001b[0m \u001b[1m4s\u001b[0m 11ms/step - accuracy: 0.7111 - loss: 0.8914 - val_accuracy: 0.1044 - val_loss: 4.3005\n",
      "Epoch 50/100\n",
      "\u001b[1m375/375\u001b[0m \u001b[32m━━━━━━━━━━━━━━━━━━━━\u001b[0m\u001b[37m\u001b[0m \u001b[1m5s\u001b[0m 12ms/step - accuracy: 0.7135 - loss: 0.8872 - val_accuracy: 0.1023 - val_loss: 4.3575\n",
      "Epoch 51/100\n",
      "\u001b[1m375/375\u001b[0m \u001b[32m━━━━━━━━━━━━━━━━━━━━\u001b[0m\u001b[37m\u001b[0m \u001b[1m4s\u001b[0m 12ms/step - accuracy: 0.7234 - loss: 0.8548 - val_accuracy: 0.1038 - val_loss: 4.4363\n",
      "Epoch 52/100\n",
      "\u001b[1m375/375\u001b[0m \u001b[32m━━━━━━━━━━━━━━━━━━━━\u001b[0m\u001b[37m\u001b[0m \u001b[1m5s\u001b[0m 12ms/step - accuracy: 0.7285 - loss: 0.8409 - val_accuracy: 0.1046 - val_loss: 4.4943\n",
      "Epoch 53/100\n",
      "\u001b[1m375/375\u001b[0m \u001b[32m━━━━━━━━━━━━━━━━━━━━\u001b[0m\u001b[37m\u001b[0m \u001b[1m4s\u001b[0m 12ms/step - accuracy: 0.7298 - loss: 0.8348 - val_accuracy: 0.1053 - val_loss: 4.5521\n",
      "Epoch 54/100\n",
      "\u001b[1m375/375\u001b[0m \u001b[32m━━━━━━━━━━━━━━━━━━━━\u001b[0m\u001b[37m\u001b[0m \u001b[1m5s\u001b[0m 12ms/step - accuracy: 0.7400 - loss: 0.8067 - val_accuracy: 0.1020 - val_loss: 4.6221\n",
      "Epoch 55/100\n",
      "\u001b[1m375/375\u001b[0m \u001b[32m━━━━━━━━━━━━━━━━━━━━\u001b[0m\u001b[37m\u001b[0m \u001b[1m4s\u001b[0m 12ms/step - accuracy: 0.7447 - loss: 0.7878 - val_accuracy: 0.1047 - val_loss: 4.6729\n",
      "Epoch 56/100\n",
      "\u001b[1m375/375\u001b[0m \u001b[32m━━━━━━━━━━━━━━━━━━━━\u001b[0m\u001b[37m\u001b[0m \u001b[1m4s\u001b[0m 12ms/step - accuracy: 0.7472 - loss: 0.7791 - val_accuracy: 0.1031 - val_loss: 4.7496\n",
      "Epoch 57/100\n",
      "\u001b[1m375/375\u001b[0m \u001b[32m━━━━━━━━━━━━━━━━━━━━\u001b[0m\u001b[37m\u001b[0m \u001b[1m5s\u001b[0m 12ms/step - accuracy: 0.7579 - loss: 0.7562 - val_accuracy: 0.1009 - val_loss: 4.8375\n",
      "Epoch 58/100\n",
      "\u001b[1m375/375\u001b[0m \u001b[32m━━━━━━━━━━━━━━━━━━━━\u001b[0m\u001b[37m\u001b[0m \u001b[1m5s\u001b[0m 13ms/step - accuracy: 0.7610 - loss: 0.7461 - val_accuracy: 0.1007 - val_loss: 4.8683\n",
      "Epoch 59/100\n",
      "\u001b[1m375/375\u001b[0m \u001b[32m━━━━━━━━━━━━━━━━━━━━\u001b[0m\u001b[37m\u001b[0m \u001b[1m4s\u001b[0m 12ms/step - accuracy: 0.7673 - loss: 0.7283 - val_accuracy: 0.1032 - val_loss: 4.9298\n",
      "Epoch 60/100\n",
      "\u001b[1m375/375\u001b[0m \u001b[32m━━━━━━━━━━━━━━━━━━━━\u001b[0m\u001b[37m\u001b[0m \u001b[1m4s\u001b[0m 12ms/step - accuracy: 0.7723 - loss: 0.7173 - val_accuracy: 0.1056 - val_loss: 5.0087\n",
      "Epoch 61/100\n",
      "\u001b[1m375/375\u001b[0m \u001b[32m━━━━━━━━━━━━━━━━━━━━\u001b[0m\u001b[37m\u001b[0m \u001b[1m4s\u001b[0m 11ms/step - accuracy: 0.7803 - loss: 0.6899 - val_accuracy: 0.1021 - val_loss: 5.1079\n",
      "Epoch 62/100\n",
      "\u001b[1m375/375\u001b[0m \u001b[32m━━━━━━━━━━━━━━━━━━━━\u001b[0m\u001b[37m\u001b[0m \u001b[1m4s\u001b[0m 11ms/step - accuracy: 0.7834 - loss: 0.6782 - val_accuracy: 0.1050 - val_loss: 5.1365\n",
      "Epoch 63/100\n",
      "\u001b[1m375/375\u001b[0m \u001b[32m━━━━━━━━━━━━━━━━━━━━\u001b[0m\u001b[37m\u001b[0m \u001b[1m4s\u001b[0m 11ms/step - accuracy: 0.7860 - loss: 0.6711 - val_accuracy: 0.1074 - val_loss: 5.2390\n",
      "Epoch 64/100\n",
      "\u001b[1m375/375\u001b[0m \u001b[32m━━━━━━━━━━━━━━━━━━━━\u001b[0m\u001b[37m\u001b[0m \u001b[1m5s\u001b[0m 12ms/step - accuracy: 0.7941 - loss: 0.6514 - val_accuracy: 0.1023 - val_loss: 5.2867\n",
      "Epoch 65/100\n",
      "\u001b[1m375/375\u001b[0m \u001b[32m━━━━━━━━━━━━━━━━━━━━\u001b[0m\u001b[37m\u001b[0m \u001b[1m4s\u001b[0m 11ms/step - accuracy: 0.8018 - loss: 0.6347 - val_accuracy: 0.1038 - val_loss: 5.3490\n",
      "Epoch 66/100\n",
      "\u001b[1m375/375\u001b[0m \u001b[32m━━━━━━━━━━━━━━━━━━━━\u001b[0m\u001b[37m\u001b[0m \u001b[1m5s\u001b[0m 12ms/step - accuracy: 0.7978 - loss: 0.6336 - val_accuracy: 0.1021 - val_loss: 5.4266\n",
      "Epoch 67/100\n",
      "\u001b[1m375/375\u001b[0m \u001b[32m━━━━━━━━━━━━━━━━━━━━\u001b[0m\u001b[37m\u001b[0m \u001b[1m5s\u001b[0m 12ms/step - accuracy: 0.8047 - loss: 0.6198 - val_accuracy: 0.1053 - val_loss: 5.5009\n",
      "Epoch 68/100\n",
      "\u001b[1m375/375\u001b[0m \u001b[32m━━━━━━━━━━━━━━━━━━━━\u001b[0m\u001b[37m\u001b[0m \u001b[1m4s\u001b[0m 11ms/step - accuracy: 0.8066 - loss: 0.6046 - val_accuracy: 0.1040 - val_loss: 5.5447\n",
      "Epoch 69/100\n",
      "\u001b[1m375/375\u001b[0m \u001b[32m━━━━━━━━━━━━━━━━━━━━\u001b[0m\u001b[37m\u001b[0m \u001b[1m5s\u001b[0m 12ms/step - accuracy: 0.8159 - loss: 0.5868 - val_accuracy: 0.1007 - val_loss: 5.6171\n",
      "Epoch 70/100\n",
      "\u001b[1m375/375\u001b[0m \u001b[32m━━━━━━━━━━━━━━━━━━━━\u001b[0m\u001b[37m\u001b[0m \u001b[1m4s\u001b[0m 12ms/step - accuracy: 0.8170 - loss: 0.5820 - val_accuracy: 0.1047 - val_loss: 5.7240\n",
      "Epoch 71/100\n",
      "\u001b[1m375/375\u001b[0m \u001b[32m━━━━━━━━━━━━━━━━━━━━\u001b[0m\u001b[37m\u001b[0m \u001b[1m4s\u001b[0m 11ms/step - accuracy: 0.8216 - loss: 0.5704 - val_accuracy: 0.1043 - val_loss: 5.7566\n",
      "Epoch 72/100\n",
      "\u001b[1m375/375\u001b[0m \u001b[32m━━━━━━━━━━━━━━━━━━━━\u001b[0m\u001b[37m\u001b[0m \u001b[1m5s\u001b[0m 13ms/step - accuracy: 0.8254 - loss: 0.5554 - val_accuracy: 0.1020 - val_loss: 5.8113\n",
      "Epoch 73/100\n",
      "\u001b[1m375/375\u001b[0m \u001b[32m━━━━━━━━━━━━━━━━━━━━\u001b[0m\u001b[37m\u001b[0m \u001b[1m5s\u001b[0m 13ms/step - accuracy: 0.8267 - loss: 0.5525 - val_accuracy: 0.1052 - val_loss: 5.9056\n",
      "Epoch 74/100\n",
      "\u001b[1m375/375\u001b[0m \u001b[32m━━━━━━━━━━━━━━━━━━━━\u001b[0m\u001b[37m\u001b[0m \u001b[1m4s\u001b[0m 12ms/step - accuracy: 0.8338 - loss: 0.5300 - val_accuracy: 0.1026 - val_loss: 5.9667\n",
      "Epoch 75/100\n",
      "\u001b[1m375/375\u001b[0m \u001b[32m━━━━━━━━━━━━━━━━━━━━\u001b[0m\u001b[37m\u001b[0m \u001b[1m5s\u001b[0m 12ms/step - accuracy: 0.8355 - loss: 0.5245 - val_accuracy: 0.1021 - val_loss: 6.0517\n",
      "Epoch 76/100\n",
      "\u001b[1m375/375\u001b[0m \u001b[32m━━━━━━━━━━━━━━━━━━━━\u001b[0m\u001b[37m\u001b[0m \u001b[1m5s\u001b[0m 12ms/step - accuracy: 0.8398 - loss: 0.5146 - val_accuracy: 0.1011 - val_loss: 6.1915\n",
      "Epoch 77/100\n",
      "\u001b[1m375/375\u001b[0m \u001b[32m━━━━━━━━━━━━━━━━━━━━\u001b[0m\u001b[37m\u001b[0m \u001b[1m5s\u001b[0m 12ms/step - accuracy: 0.8439 - loss: 0.5079 - val_accuracy: 0.1028 - val_loss: 6.2013\n",
      "Epoch 78/100\n",
      "\u001b[1m375/375\u001b[0m \u001b[32m━━━━━━━━━━━━━━━━━━━━\u001b[0m\u001b[37m\u001b[0m \u001b[1m5s\u001b[0m 12ms/step - accuracy: 0.8463 - loss: 0.4964 - val_accuracy: 0.1028 - val_loss: 6.2443\n",
      "Epoch 79/100\n",
      "\u001b[1m375/375\u001b[0m \u001b[32m━━━━━━━━━━━━━━━━━━━━\u001b[0m\u001b[37m\u001b[0m \u001b[1m5s\u001b[0m 12ms/step - accuracy: 0.8501 - loss: 0.4861 - val_accuracy: 0.1022 - val_loss: 6.3616\n",
      "Epoch 80/100\n",
      "\u001b[1m375/375\u001b[0m \u001b[32m━━━━━━━━━━━━━━━━━━━━\u001b[0m\u001b[37m\u001b[0m \u001b[1m5s\u001b[0m 12ms/step - accuracy: 0.8551 - loss: 0.4735 - val_accuracy: 0.1016 - val_loss: 6.3986\n",
      "Epoch 81/100\n",
      "\u001b[1m375/375\u001b[0m \u001b[32m━━━━━━━━━━━━━━━━━━━━\u001b[0m\u001b[37m\u001b[0m \u001b[1m4s\u001b[0m 11ms/step - accuracy: 0.8586 - loss: 0.4611 - val_accuracy: 0.1042 - val_loss: 6.4970\n",
      "Epoch 82/100\n",
      "\u001b[1m375/375\u001b[0m \u001b[32m━━━━━━━━━━━━━━━━━━━━\u001b[0m\u001b[37m\u001b[0m \u001b[1m4s\u001b[0m 12ms/step - accuracy: 0.8573 - loss: 0.4613 - val_accuracy: 0.1024 - val_loss: 6.5867\n",
      "Epoch 83/100\n",
      "\u001b[1m375/375\u001b[0m \u001b[32m━━━━━━━━━━━━━━━━━━━━\u001b[0m\u001b[37m\u001b[0m \u001b[1m4s\u001b[0m 12ms/step - accuracy: 0.8627 - loss: 0.4490 - val_accuracy: 0.1020 - val_loss: 6.6538\n",
      "Epoch 84/100\n",
      "\u001b[1m375/375\u001b[0m \u001b[32m━━━━━━━━━━━━━━━━━━━━\u001b[0m\u001b[37m\u001b[0m \u001b[1m4s\u001b[0m 12ms/step - accuracy: 0.8654 - loss: 0.4382 - val_accuracy: 0.1036 - val_loss: 6.6858\n",
      "Epoch 85/100\n",
      "\u001b[1m375/375\u001b[0m \u001b[32m━━━━━━━━━━━━━━━━━━━━\u001b[0m\u001b[37m\u001b[0m \u001b[1m5s\u001b[0m 13ms/step - accuracy: 0.8698 - loss: 0.4262 - val_accuracy: 0.1053 - val_loss: 6.8006\n",
      "Epoch 86/100\n",
      "\u001b[1m375/375\u001b[0m \u001b[32m━━━━━━━━━━━━━━━━━━━━\u001b[0m\u001b[37m\u001b[0m \u001b[1m5s\u001b[0m 12ms/step - accuracy: 0.8726 - loss: 0.4183 - val_accuracy: 0.1054 - val_loss: 6.9028\n",
      "Epoch 87/100\n",
      "\u001b[1m375/375\u001b[0m \u001b[32m━━━━━━━━━━━━━━━━━━━━\u001b[0m\u001b[37m\u001b[0m \u001b[1m5s\u001b[0m 13ms/step - accuracy: 0.8740 - loss: 0.4131 - val_accuracy: 0.1018 - val_loss: 6.9275\n",
      "Epoch 88/100\n",
      "\u001b[1m375/375\u001b[0m \u001b[32m━━━━━━━━━━━━━━━━━━━━\u001b[0m\u001b[37m\u001b[0m \u001b[1m7s\u001b[0m 18ms/step - accuracy: 0.8744 - loss: 0.4135 - val_accuracy: 0.1016 - val_loss: 7.0501\n",
      "Epoch 89/100\n",
      "\u001b[1m375/375\u001b[0m \u001b[32m━━━━━━━━━━━━━━━━━━━━\u001b[0m\u001b[37m\u001b[0m \u001b[1m9s\u001b[0m 24ms/step - accuracy: 0.8772 - loss: 0.3984 - val_accuracy: 0.1042 - val_loss: 7.0942\n",
      "Epoch 90/100\n",
      "\u001b[1m375/375\u001b[0m \u001b[32m━━━━━━━━━━━━━━━━━━━━\u001b[0m\u001b[37m\u001b[0m \u001b[1m9s\u001b[0m 24ms/step - accuracy: 0.8790 - loss: 0.3943 - val_accuracy: 0.1034 - val_loss: 7.1754\n",
      "Epoch 91/100\n",
      "\u001b[1m375/375\u001b[0m \u001b[32m━━━━━━━━━━━━━━━━━━━━\u001b[0m\u001b[37m\u001b[0m \u001b[1m10s\u001b[0m 25ms/step - accuracy: 0.8841 - loss: 0.3842 - val_accuracy: 0.1034 - val_loss: 7.2286\n",
      "Epoch 92/100\n",
      "\u001b[1m375/375\u001b[0m \u001b[32m━━━━━━━━━━━━━━━━━━━━\u001b[0m\u001b[37m\u001b[0m \u001b[1m10s\u001b[0m 25ms/step - accuracy: 0.8841 - loss: 0.3760 - val_accuracy: 0.1018 - val_loss: 7.3038\n",
      "Epoch 93/100\n",
      "\u001b[1m375/375\u001b[0m \u001b[32m━━━━━━━━━━━━━━━━━━━━\u001b[0m\u001b[37m\u001b[0m \u001b[1m10s\u001b[0m 26ms/step - accuracy: 0.8865 - loss: 0.3699 - val_accuracy: 0.1027 - val_loss: 7.3670\n",
      "Epoch 94/100\n",
      "\u001b[1m375/375\u001b[0m \u001b[32m━━━━━━━━━━━━━━━━━━━━\u001b[0m\u001b[37m\u001b[0m \u001b[1m9s\u001b[0m 24ms/step - accuracy: 0.8865 - loss: 0.3676 - val_accuracy: 0.1024 - val_loss: 7.4365\n",
      "Epoch 95/100\n",
      "\u001b[1m375/375\u001b[0m \u001b[32m━━━━━━━━━━━━━━━━━━━━\u001b[0m\u001b[37m\u001b[0m \u001b[1m9s\u001b[0m 24ms/step - accuracy: 0.8889 - loss: 0.3588 - val_accuracy: 0.1012 - val_loss: 7.5819\n",
      "Epoch 96/100\n",
      "\u001b[1m375/375\u001b[0m \u001b[32m━━━━━━━━━━━━━━━━━━━━\u001b[0m\u001b[37m\u001b[0m \u001b[1m9s\u001b[0m 23ms/step - accuracy: 0.8932 - loss: 0.3545 - val_accuracy: 0.1010 - val_loss: 7.5581\n",
      "Epoch 97/100\n",
      "\u001b[1m375/375\u001b[0m \u001b[32m━━━━━━━━━━━━━━━━━━━━\u001b[0m\u001b[37m\u001b[0m \u001b[1m9s\u001b[0m 25ms/step - accuracy: 0.8954 - loss: 0.3466 - val_accuracy: 0.1021 - val_loss: 7.7125\n",
      "Epoch 98/100\n",
      "\u001b[1m375/375\u001b[0m \u001b[32m━━━━━━━━━━━━━━━━━━━━\u001b[0m\u001b[37m\u001b[0m \u001b[1m9s\u001b[0m 23ms/step - accuracy: 0.8982 - loss: 0.3395 - val_accuracy: 0.1014 - val_loss: 7.7148\n",
      "Epoch 99/100\n",
      "\u001b[1m375/375\u001b[0m \u001b[32m━━━━━━━━━━━━━━━━━━━━\u001b[0m\u001b[37m\u001b[0m \u001b[1m8s\u001b[0m 20ms/step - accuracy: 0.8984 - loss: 0.3354 - val_accuracy: 0.1053 - val_loss: 7.7672\n",
      "Epoch 100/100\n",
      "\u001b[1m375/375\u001b[0m \u001b[32m━━━━━━━━━━━━━━━━━━━━\u001b[0m\u001b[37m\u001b[0m \u001b[1m5s\u001b[0m 12ms/step - accuracy: 0.9029 - loss: 0.3262 - val_accuracy: 0.1024 - val_loss: 7.9201\n"
     ]
    },
    {
     "data": {
      "text/plain": [
       "<keras.src.callbacks.history.History at 0x14f002d6d80>"
      ]
     },
     "execution_count": 23,
     "metadata": {},
     "output_type": "execute_result"
    }
   ],
   "source": [
    "model.fit(train_images, random_train_labels,\n",
    "          epochs=100,\n",
    "          batch_size=128,\n",
    "          validation_split=0.2)"
   ]
  },
  {
   "cell_type": "code",
   "execution_count": 24,
   "metadata": {},
   "outputs": [],
   "source": [
    "(train_images, train_labels), _ = mnist.load_data()\n",
    "train_images = train_images.reshape((60000, 28 * 28))\n",
    "train_images = train_images.astype(\"float32\") / 255"
   ]
  },
  {
   "cell_type": "code",
   "execution_count": 25,
   "metadata": {},
   "outputs": [],
   "source": [
    "model = keras.Sequential([\n",
    "    layers.Dense(512, activation=\"relu\"),\n",
    "    layers.Dense(10, activation=\"softmax\")\n",
    "])"
   ]
  },
  {
   "cell_type": "markdown",
   "metadata": {},
   "source": [
    "Setting very high learning rate($\\eta=1$)"
   ]
  },
  {
   "cell_type": "code",
   "execution_count": 26,
   "metadata": {},
   "outputs": [],
   "source": [
    "model.compile(optimizer=keras.optimizers.RMSprop(1.),\n",
    "              loss=\"sparse_categorical_crossentropy\",\n",
    "              metrics=[\"accuracy\"])"
   ]
  },
  {
   "cell_type": "code",
   "execution_count": 27,
   "metadata": {},
   "outputs": [
    {
     "name": "stdout",
     "output_type": "stream",
     "text": [
      "Epoch 1/10\n",
      "\u001b[1m375/375\u001b[0m \u001b[32m━━━━━━━━━━━━━━━━━━━━\u001b[0m\u001b[37m\u001b[0m \u001b[1m5s\u001b[0m 11ms/step - accuracy: 0.4101 - loss: 3221.1531 - val_accuracy: 0.2223 - val_loss: 2.2484\n",
      "Epoch 2/10\n",
      "\u001b[1m375/375\u001b[0m \u001b[32m━━━━━━━━━━━━━━━━━━━━\u001b[0m\u001b[37m\u001b[0m \u001b[1m4s\u001b[0m 11ms/step - accuracy: 0.1768 - loss: 3.0058 - val_accuracy: 0.2066 - val_loss: 3.6887\n",
      "Epoch 3/10\n",
      "\u001b[1m375/375\u001b[0m \u001b[32m━━━━━━━━━━━━━━━━━━━━\u001b[0m\u001b[37m\u001b[0m \u001b[1m4s\u001b[0m 11ms/step - accuracy: 0.1971 - loss: 2.4656 - val_accuracy: 0.2222 - val_loss: 2.2029\n",
      "Epoch 4/10\n",
      "\u001b[1m375/375\u001b[0m \u001b[32m━━━━━━━━━━━━━━━━━━━━\u001b[0m\u001b[37m\u001b[0m \u001b[1m5s\u001b[0m 12ms/step - accuracy: 0.2006 - loss: 2.5704 - val_accuracy: 0.2175 - val_loss: 2.0857\n",
      "Epoch 5/10\n",
      "\u001b[1m375/375\u001b[0m \u001b[32m━━━━━━━━━━━━━━━━━━━━\u001b[0m\u001b[37m\u001b[0m \u001b[1m5s\u001b[0m 12ms/step - accuracy: 0.2149 - loss: 2.3048 - val_accuracy: 0.2198 - val_loss: 2.2811\n",
      "Epoch 6/10\n",
      "\u001b[1m375/375\u001b[0m \u001b[32m━━━━━━━━━━━━━━━━━━━━\u001b[0m\u001b[37m\u001b[0m \u001b[1m5s\u001b[0m 13ms/step - accuracy: 0.2184 - loss: 2.3600 - val_accuracy: 0.2512 - val_loss: 2.9888\n",
      "Epoch 7/10\n",
      "\u001b[1m375/375\u001b[0m \u001b[32m━━━━━━━━━━━━━━━━━━━━\u001b[0m\u001b[37m\u001b[0m \u001b[1m5s\u001b[0m 13ms/step - accuracy: 0.2291 - loss: 2.3985 - val_accuracy: 0.2431 - val_loss: 2.0892\n",
      "Epoch 8/10\n",
      "\u001b[1m375/375\u001b[0m \u001b[32m━━━━━━━━━━━━━━━━━━━━\u001b[0m\u001b[37m\u001b[0m \u001b[1m5s\u001b[0m 12ms/step - accuracy: 0.2321 - loss: 2.3157 - val_accuracy: 0.2023 - val_loss: 2.2541\n",
      "Epoch 9/10\n",
      "\u001b[1m375/375\u001b[0m \u001b[32m━━━━━━━━━━━━━━━━━━━━\u001b[0m\u001b[37m\u001b[0m \u001b[1m5s\u001b[0m 12ms/step - accuracy: 0.2179 - loss: 2.4535 - val_accuracy: 0.2192 - val_loss: 2.7261\n",
      "Epoch 10/10\n",
      "\u001b[1m375/375\u001b[0m \u001b[32m━━━━━━━━━━━━━━━━━━━━\u001b[0m\u001b[37m\u001b[0m \u001b[1m5s\u001b[0m 12ms/step - accuracy: 0.1994 - loss: 2.3196 - val_accuracy: 0.2124 - val_loss: 2.0985\n"
     ]
    },
    {
     "data": {
      "text/plain": [
       "<keras.src.callbacks.history.History at 0x14f00bdb410>"
      ]
     },
     "execution_count": 27,
     "metadata": {},
     "output_type": "execute_result"
    }
   ],
   "source": [
    "model.fit(train_images, train_labels,\n",
    "          epochs=10,\n",
    "          batch_size=128,\n",
    "          validation_split=0.2)"
   ]
  },
  {
   "cell_type": "code",
   "execution_count": null,
   "metadata": {},
   "outputs": [],
   "source": [
    "model = keras.Sequential([\n",
    "    layers.Dense(512, activation=\"relu\"),\n",
    "    layers.Dense(10, activation=\"softmax\")\n",
    "])"
   ]
  },
  {
   "cell_type": "markdown",
   "metadata": {},
   "source": [
    "Setting appropriate learning rate $\\eta=0.01$"
   ]
  },
  {
   "cell_type": "code",
   "execution_count": null,
   "metadata": {},
   "outputs": [],
   "source": [
    "model.compile(optimizer=keras.optimizers.RMSprop(1e-2),\n",
    "              loss=\"sparse_categorical_crossentropy\",\n",
    "              metrics=[\"accuracy\"])"
   ]
  },
  {
   "cell_type": "code",
   "execution_count": null,
   "metadata": {},
   "outputs": [],
   "source": [
    "model.fit(train_images, train_labels,\n",
    "          epochs=10,\n",
    "          batch_size=128,\n",
    "          validation_split=0.2)"
   ]
  },
  {
   "cell_type": "markdown",
   "metadata": {},
   "source": [
    "Small model with dense=10"
   ]
  },
  {
   "cell_type": "code",
   "execution_count": null,
   "metadata": {},
   "outputs": [],
   "source": [
    "model = keras.Sequential([layers.Dense(10, activation=\"softmax\")])\n",
    "model.compile(optimizer=\"rmsprop\",\n",
    "              loss=\"sparse_categorical_crossentropy\",\n",
    "              metrics=[\"accuracy\"])\n",
    "history_small_model = model.fit(\n",
    "    train_images, train_labels,\n",
    "    epochs=20,\n",
    "    batch_size=128,\n",
    "    validation_split=0.2)"
   ]
  },
  {
   "cell_type": "code",
   "execution_count": null,
   "metadata": {},
   "outputs": [],
   "source": [
    "import matplotlib.pyplot as plt\n",
    "val_loss = history_small_model.history[\"val_loss\"]\n",
    "epochs = range(1, 21)\n",
    "plt.plot(epochs, val_loss, \"b--\",\n",
    "         label=\"Validation loss\")\n",
    "plt.title(\"Effect of insufficient model capacity on validation loss\")\n",
    "plt.xlabel(\"Epochs\")\n",
    "plt.ylabel(\"Loss\")\n",
    "plt.legend()"
   ]
  }
 ],
 "metadata": {
  "kernelspec": {
   "display_name": "base",
   "language": "python",
   "name": "python3"
  },
  "language_info": {
   "codemirror_mode": {
    "name": "ipython",
    "version": 3
   },
   "file_extension": ".py",
   "mimetype": "text/x-python",
   "name": "python",
   "nbconvert_exporter": "python",
   "pygments_lexer": "ipython3",
   "version": "3.12.3"
  }
 },
 "nbformat": 4,
 "nbformat_minor": 2
}
